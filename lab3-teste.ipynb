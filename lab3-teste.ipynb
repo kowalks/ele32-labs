{
 "cells": [
  {
   "cell_type": "markdown",
   "metadata": {},
   "source": [
    "# Lab 2: Códigos Cíclicos\n",
    "\n",
    "Alunos: Fernando Zanchitta e Guilherme Kowalczuk"
   ]
  },
  {
   "cell_type": "markdown",
   "metadata": {},
   "source": [
    "# 1. Simulação"
   ]
  },
  {
   "cell_type": "code",
   "execution_count": 3,
   "metadata": {},
   "outputs": [],
   "source": [
    "from channel import BSC\n",
    "from encoder import NaiveEncoder, ConvolutionalEncoder\n",
    "from lab1 import Simulator\n",
    "from helpers import safe_load\n",
    "\n",
    "import numpy as np\n",
    "import random\n",
    "random.seed(2023)\n",
    "\n",
    "p = [5e-1, 2e-1, 1e-1, 5e-2, 2e-2, 1e-2, 5e-3, 2e-3, 1e-3, 5e-4, 2e-4, 1e-4, 5e-5, 2e-5, 1e-5]"
   ]
  },
  {
   "cell_type": "markdown",
   "metadata": {},
   "source": [
    "## 1.1. Naive Encoder"
   ]
  },
  {
   "cell_type": "code",
   "execution_count": 2,
   "metadata": {},
   "outputs": [
    {
     "name": "stdout",
     "output_type": "stream",
     "text": [
      "[(0.5, 0.500831), (0.2, 0.199307), (0.1, 0.100258), (0.05, 0.050281), (0.02, 0.020018), (0.01, 0.009992), (0.005, 0.004897), (0.002, 0.001971), (0.001, 0.001009), (0.0005, 0.000483), (0.0002, 0.000207), (0.0001, 0.000105), (5e-05, 4.1e-05), (2e-05, 2e-05), (1e-05, 1.2e-05)]\n"
     ]
    }
   ],
   "source": [
    "k = 4\n",
    "l = 1000000//k\n",
    "naive_encoder = NaiveEncoder()\n",
    "\n",
    "channels = map(BSC, p)\n",
    "sim = map(lambda channel: Simulator(naive_encoder, channel, k=k, l=l), channels)\n",
    "simulated = zip(p, map(Simulator.simulate, sim))\n",
    "naive_sim = safe_load('lab3_values/naive.pickle', lambda: list(simulated))\n",
    "\n",
    "print(naive_sim)"
   ]
  },
  {
   "cell_type": "markdown",
   "metadata": {},
   "source": [
    "## 1.2. Convolutional Encoder"
   ]
  },
  {
   "cell_type": "code",
   "execution_count": 4,
   "metadata": {},
   "outputs": [
    {
     "name": "stdout",
     "output_type": "stream",
     "text": [
      "m=3\n",
      "[(0.5, 0.505), (0.2, 0.206), (0.1, 0.003), (0.05, 0.0), (0.02, 0.0), (0.01, 0.0), (0.005, 0.0), (0.002, 0.0), (0.001, 0.0), (0.0005, 0.0), (0.0002, 0.0), (0.0001, 0.0), (5e-05, 0.0), (2e-05, 0.0), (1e-05, 0.0)]\n"
     ]
    },
    {
     "name": "stderr",
     "output_type": "stream",
     "text": [
      "100%|██████████| 16000/16000 [00:05<00:00, 2729.05it/s]\n",
      "100%|██████████| 40000/40000 [00:14<00:00, 2762.95it/s]\n",
      "100%|██████████| 80000/80000 [00:29<00:00, 2733.44it/s]\n",
      " 33%|███▎      | 52766/160000 [00:19<00:40, 2632.66it/s]"
     ]
    }
   ],
   "source": [
    "def simulate_convolutional(m,G,k=None):\n",
    "    n = 3\n",
    "    conv_encoder = ConvolutionalEncoder(n, m, G)\n",
    "\n",
    "    conv_sim = []\n",
    "    for prob in p:\n",
    "        if k is None:\n",
    "            sim_k = int(8000/prob) # min(int(8000/prob), 1_000_000)\n",
    "        else:\n",
    "            sim_k = k\n",
    "        channel = BSC(prob)\n",
    "        sim = Simulator(conv_encoder, channel, k=sim_k, l=1)\n",
    "        simulated = sim.simulate()\n",
    "        conv_sim.append(simulated)\n",
    "\n",
    "    return list(zip(p, conv_sim))\n",
    "\n",
    "mG = [\n",
    "    (3, np.array([[1,0,1,1], [1,1,0,1], [1,1,1,1]])),\n",
    "    (4, np.array([[1,0,1,0,1], [1,1,0,1,1], [1,1,1,1,1]])), \n",
    "    (6, np.array([[1,0,0,1,1,1,1], [1,0,1,0,1,1,1], [1,1,0,1,1,0,1]])),\n",
    "]\n",
    "\n",
    "conv_sim = []\n",
    "for m,G in mG:\n",
    "    sim = safe_load(f'lab3_values/conv{m}.pickle', lambda: simulate_convolutional(m,G))\n",
    "    conv_sim.append(sim)\n",
    "    print(f'm={m}')\n",
    "    print(sim)"
   ]
  },
  {
   "cell_type": "code",
   "execution_count": 17,
   "metadata": {},
   "outputs": [
    {
     "data": {
      "image/png": "[encoded data removed]",
      "text/plain": [
       "<Figure size 432x288 with 1 Axes>"
      ]
     },
     "metadata": {
      "needs_background": "light"
     },
     "output_type": "display_data"
    }
   ],
   "source": [
    "import matplotlib.pyplot as plt\n",
    "\n",
    "fig = plt.figure()\n",
    "ax = plt.gca()\n",
    "# plt.plot(p, naive_sim)\n",
    "plt.plot([k for k,_ in conv_sim[0]], [v for _,v in conv_sim[0]])\n",
    "ax.set_yscale('log')\n",
    "ax.set_xscale('log')\n",
    "ax.invert_xaxis()"
   ]
  },
  {
   "cell_type": "code",
   "execution_count": 7,
   "metadata": {},
   "outputs": [
    {
     "ename": "SyntaxError",
     "evalue": "can't use starred expression here (2771073961.py, line 1)",
     "output_type": "error",
     "traceback": [
      "\u001b[0;36m  Input \u001b[0;32mIn [7]\u001b[0;36m\u001b[0m\n\u001b[0;31m    *conv_sim[0]\u001b[0m\n\u001b[0m    ^\u001b[0m\n\u001b[0;31mSyntaxError\u001b[0m\u001b[0;31m:\u001b[0m can't use starred expression here\n"
     ]
    }
   ],
   "source": []
  },
  {
   "cell_type": "code",
   "execution_count": 15,
   "metadata": {},
   "outputs": [
    {
     "data": {
      "text/plain": [
       "[(0.5, 0.46),\n",
       " (0.4429333952050413, 0.5155555555555555),\n",
       " (0.39237998517573064, 0.4921259842519685),\n",
       " (0.3475963980887803, 0.37630662020905925),\n",
       " (0.30792410553301314, 0.3734567901234568),\n",
       " (0.27277973905842595, 0.34153005464480873),\n",
       " (0.2416465119285877, 0.21549636803874092),\n",
       " (0.2140666199359697, 0.20556745182012848),\n",
       " (0.18963450953661246, 0.2030360531309298),\n",
       " (0.1679909143141891, 0.06554621848739496),\n",
       " (0.14881757208156593, 0.05514157973174367),\n",
       " (0.1318325449365179, 0.06200527704485488),\n",
       " (0.1167860734545061, 0.009345794392523364),\n",
       " (0.1034569040557395, 0.012422360248447204),\n",
       " (0.09164903554162182, 0.0),\n",
       " (0.08118883695943607, 0.005686433793663688),\n",
       " (0.07192249441438314, 0.0057553956834532375),\n",
       " (0.06371374928515669, 0.0),\n",
       " (0.056441894584234466, 0.000564652738565782),\n",
       " (0.049999999999999996, 0.0)]"
      ]
     },
     "execution_count": 15,
     "metadata": {},
     "output_type": "execute_result"
    }
   ],
   "source": []
  },
  {
   "cell_type": "code",
   "execution_count": null,
   "metadata": {},
   "outputs": [],
   "source": []
  }
 ],
 "metadata": {
  "interpreter": {
   "hash": "0eac290d8ee919c10ac36ff98d6810291bef4cb71cb2886f70be001c3ae785dc"
  },
  "kernelspec": {
   "display_name": "Python 3.10.0 ('xp')",
   "language": "python",
   "name": "python3"
  },
  "language_info": {
   "codemirror_mode": {
    "name": "ipython",
    "version": 3
   },
   "file_extension": ".py",
   "mimetype": "text/x-python",
   "name": "python",
   "nbconvert_exporter": "python",
   "pygments_lexer": "ipython3",
   "version": "3.10.0"
  },
  "orig_nbformat": 4
 },
 "nbformat": 4,
 "nbformat_minor": 2
}
