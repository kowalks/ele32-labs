{
 "cells": [
  {
   "cell_type": "markdown",
   "metadata": {},
   "source": [
    "# Lab 2: Códigos Cíclicos\n",
    "\n",
    "Alunos: Fernando Zanchitta e Guilherme Kowalczuk"
   ]
  },
  {
   "cell_type": "markdown",
   "metadata": {},
   "source": [
    "# 1. Simulação"
   ]
  },
  {
   "cell_type": "code",
   "execution_count": 1,
   "metadata": {},
   "outputs": [],
   "source": [
    "from channel import BSC\n",
    "from encoder import NaiveEncoder, ConvolutionalEncoder\n",
    "from lab1 import Simulator\n",
    "from helpers import safe_load\n",
    "\n",
    "import numpy as np\n",
    "import random\n",
    "random.seed(2023)\n",
    "\n",
    "p = [5e-1, 2e-1, 1e-1, 5e-2, 2e-2, 1e-2, 5e-3, 2e-3, 1e-3, 5e-4, 2e-4, 1e-4, 5e-5, 2e-5, 1e-5]"
   ]
  },
  {
   "cell_type": "markdown",
   "metadata": {},
   "source": [
    "## 1.1. Naive Encoder"
   ]
  },
  {
   "cell_type": "code",
   "execution_count": 2,
   "metadata": {},
   "outputs": [
    {
     "name": "stdout",
     "output_type": "stream",
     "text": [
      "[(0.5, 0.500831), (0.2, 0.199307), (0.1, 0.100258), (0.05, 0.050281), (0.02, 0.020018), (0.01, 0.009992), (0.005, 0.004897), (0.002, 0.001971), (0.001, 0.001009), (0.0005, 0.000483), (0.0002, 0.000207), (0.0001, 0.000105), (5e-05, 4.1e-05), (2e-05, 2e-05), (1e-05, 1.2e-05)]\n"
     ]
    }
   ],
   "source": [
    "k = 4\n",
    "l = 1000000//k\n",
    "naive_encoder = NaiveEncoder()\n",
    "\n",
    "channels = map(BSC, p)\n",
    "sim = map(lambda channel: Simulator(naive_encoder, channel, k=k, l=l), channels)\n",
    "simulated = zip(p, map(Simulator.simulate, sim))\n",
    "naive_sim = safe_load('lab3_values/naive.pickle', lambda: list(simulated))\n",
    "\n",
    "print(naive_sim)"
   ]
  },
  {
   "cell_type": "markdown",
   "metadata": {},
   "source": [
    "## 1.2. Convolutional Encoder"
   ]
  },
  {
   "cell_type": "code",
   "execution_count": 3,
   "metadata": {},
   "outputs": [
    {
     "name": "stdout",
     "output_type": "stream",
     "text": [
      "m=3\n",
      "[(0.5, 0.505), (0.2, 0.206), (0.1, 0.003), (0.05, 0.0), (0.02, 0.0), (0.01, 0.0), (0.005, 0.0), (0.002, 0.0), (0.001, 0.0), (0.0005, 0.0), (0.0002, 0.0), (0.0001, 0.0), (5e-05, 0.0), (2e-05, 0.0), (1e-05, 0.0)]\n"
     ]
    },
    {
     "name": "stderr",
     "output_type": "stream",
     "text": [
      " 54%|█████▍    | 8650/16000 [00:03<00:02, 2714.29it/s]\n"
     ]
    },
    {
     "ename": "KeyboardInterrupt",
     "evalue": "",
     "output_type": "error",
     "traceback": [
      "\u001b[0;31m---------------------------------------------------------------------------\u001b[0m",
      "\u001b[0;31mKeyboardInterrupt\u001b[0m                         Traceback (most recent call last)",
      "\u001b[1;32m/Users/kowalks/Desktop/ITA/ELE32/lab/lab3-teste.ipynb Cell 7'\u001b[0m in \u001b[0;36m<cell line: 25>\u001b[0;34m()\u001b[0m\n\u001b[1;32m     <a href='vscode-notebook-cell:/Users/kowalks/Desktop/ITA/ELE32/lab/lab3-teste.ipynb#ch0000006?line=23'>24</a>\u001b[0m conv_sim \u001b[39m=\u001b[39m []\n\u001b[1;32m     <a href='vscode-notebook-cell:/Users/kowalks/Desktop/ITA/ELE32/lab/lab3-teste.ipynb#ch0000006?line=24'>25</a>\u001b[0m \u001b[39mfor\u001b[39;00m m,G \u001b[39min\u001b[39;00m mG:\n\u001b[0;32m---> <a href='vscode-notebook-cell:/Users/kowalks/Desktop/ITA/ELE32/lab/lab3-teste.ipynb#ch0000006?line=25'>26</a>\u001b[0m     sim \u001b[39m=\u001b[39m safe_load(\u001b[39mf\u001b[39;49m\u001b[39m'\u001b[39;49m\u001b[39mlab3_values/conv\u001b[39;49m\u001b[39m{\u001b[39;49;00mm\u001b[39m}\u001b[39;49;00m\u001b[39m.pickle\u001b[39;49m\u001b[39m'\u001b[39;49m, \u001b[39mlambda\u001b[39;49;00m: simulate_convolutional(m,G))\n\u001b[1;32m     <a href='vscode-notebook-cell:/Users/kowalks/Desktop/ITA/ELE32/lab/lab3-teste.ipynb#ch0000006?line=26'>27</a>\u001b[0m     conv_sim\u001b[39m.\u001b[39mappend(sim)\n\u001b[1;32m     <a href='vscode-notebook-cell:/Users/kowalks/Desktop/ITA/ELE32/lab/lab3-teste.ipynb#ch0000006?line=27'>28</a>\u001b[0m     \u001b[39mprint\u001b[39m(\u001b[39mf\u001b[39m\u001b[39m'\u001b[39m\u001b[39mm=\u001b[39m\u001b[39m{\u001b[39;00mm\u001b[39m}\u001b[39;00m\u001b[39m'\u001b[39m)\n",
      "File \u001b[0;32m~/Desktop/ITA/ELE32/lab/helpers.py:9\u001b[0m, in \u001b[0;36msafe_load\u001b[0;34m(filename, callback)\u001b[0m\n\u001b[1;32m      7\u001b[0m         data \u001b[39m=\u001b[39m pickle\u001b[39m.\u001b[39mload(f)\n\u001b[1;32m      8\u001b[0m     \u001b[39mreturn\u001b[39;00m data\n\u001b[0;32m----> 9\u001b[0m data \u001b[39m=\u001b[39m callback()\n\u001b[1;32m     10\u001b[0m \u001b[39mwith\u001b[39;00m \u001b[39mopen\u001b[39m(filename, \u001b[39m'\u001b[39m\u001b[39mwb\u001b[39m\u001b[39m'\u001b[39m) \u001b[39mas\u001b[39;00m f:\n\u001b[1;32m     11\u001b[0m     pickle\u001b[39m.\u001b[39mdump(data, f)\n",
      "\u001b[1;32m/Users/kowalks/Desktop/ITA/ELE32/lab/lab3-teste.ipynb Cell 7'\u001b[0m in \u001b[0;36m<lambda>\u001b[0;34m()\u001b[0m\n\u001b[1;32m     <a href='vscode-notebook-cell:/Users/kowalks/Desktop/ITA/ELE32/lab/lab3-teste.ipynb#ch0000006?line=23'>24</a>\u001b[0m conv_sim \u001b[39m=\u001b[39m []\n\u001b[1;32m     <a href='vscode-notebook-cell:/Users/kowalks/Desktop/ITA/ELE32/lab/lab3-teste.ipynb#ch0000006?line=24'>25</a>\u001b[0m \u001b[39mfor\u001b[39;00m m,G \u001b[39min\u001b[39;00m mG:\n\u001b[0;32m---> <a href='vscode-notebook-cell:/Users/kowalks/Desktop/ITA/ELE32/lab/lab3-teste.ipynb#ch0000006?line=25'>26</a>\u001b[0m     sim \u001b[39m=\u001b[39m safe_load(\u001b[39mf\u001b[39m\u001b[39m'\u001b[39m\u001b[39mlab3_values/conv\u001b[39m\u001b[39m{\u001b[39;00mm\u001b[39m}\u001b[39;00m\u001b[39m.pickle\u001b[39m\u001b[39m'\u001b[39m, \u001b[39mlambda\u001b[39;00m: simulate_convolutional(m,G))\n\u001b[1;32m     <a href='vscode-notebook-cell:/Users/kowalks/Desktop/ITA/ELE32/lab/lab3-teste.ipynb#ch0000006?line=26'>27</a>\u001b[0m     conv_sim\u001b[39m.\u001b[39mappend(sim)\n\u001b[1;32m     <a href='vscode-notebook-cell:/Users/kowalks/Desktop/ITA/ELE32/lab/lab3-teste.ipynb#ch0000006?line=27'>28</a>\u001b[0m     \u001b[39mprint\u001b[39m(\u001b[39mf\u001b[39m\u001b[39m'\u001b[39m\u001b[39mm=\u001b[39m\u001b[39m{\u001b[39;00mm\u001b[39m}\u001b[39;00m\u001b[39m'\u001b[39m)\n",
      "\u001b[1;32m/Users/kowalks/Desktop/ITA/ELE32/lab/lab3-teste.ipynb Cell 7'\u001b[0m in \u001b[0;36msimulate_convolutional\u001b[0;34m(m, G, k)\u001b[0m\n\u001b[1;32m     <a href='vscode-notebook-cell:/Users/kowalks/Desktop/ITA/ELE32/lab/lab3-teste.ipynb#ch0000006?line=10'>11</a>\u001b[0m     channel \u001b[39m=\u001b[39m BSC(prob)\n\u001b[1;32m     <a href='vscode-notebook-cell:/Users/kowalks/Desktop/ITA/ELE32/lab/lab3-teste.ipynb#ch0000006?line=11'>12</a>\u001b[0m     sim \u001b[39m=\u001b[39m Simulator(conv_encoder, channel, k\u001b[39m=\u001b[39msim_k, l\u001b[39m=\u001b[39m\u001b[39m1\u001b[39m)\n\u001b[0;32m---> <a href='vscode-notebook-cell:/Users/kowalks/Desktop/ITA/ELE32/lab/lab3-teste.ipynb#ch0000006?line=12'>13</a>\u001b[0m     simulated \u001b[39m=\u001b[39m sim\u001b[39m.\u001b[39;49msimulate()\n\u001b[1;32m     <a href='vscode-notebook-cell:/Users/kowalks/Desktop/ITA/ELE32/lab/lab3-teste.ipynb#ch0000006?line=13'>14</a>\u001b[0m     conv_sim\u001b[39m.\u001b[39mappend(simulated)\n\u001b[1;32m     <a href='vscode-notebook-cell:/Users/kowalks/Desktop/ITA/ELE32/lab/lab3-teste.ipynb#ch0000006?line=15'>16</a>\u001b[0m \u001b[39mreturn\u001b[39;00m \u001b[39mlist\u001b[39m(\u001b[39mzip\u001b[39m(p, conv_sim))\n",
      "File \u001b[0;32m~/Desktop/ITA/ELE32/lab/lab1.py:29\u001b[0m, in \u001b[0;36mSimulator.simulate\u001b[0;34m(self)\u001b[0m\n\u001b[1;32m     26\u001b[0m decoded \u001b[39m=\u001b[39m \u001b[39mmap\u001b[39m(\u001b[39mself\u001b[39m\u001b[39m.\u001b[39mencoder\u001b[39m.\u001b[39mdecode, transmitted)\n\u001b[1;32m     28\u001b[0m \u001b[39m# s = sum((x == y).all() for x, y in zip(words, decoded))\u001b[39;00m\n\u001b[0;32m---> 29\u001b[0m s \u001b[39m=\u001b[39m \u001b[39msum\u001b[39;49m((x \u001b[39m==\u001b[39;49m y)\u001b[39m.\u001b[39;49msum() \u001b[39mfor\u001b[39;49;00m x, y \u001b[39min\u001b[39;49;00m \u001b[39mzip\u001b[39;49m(words, decoded))\n\u001b[1;32m     30\u001b[0m n_bits \u001b[39m=\u001b[39m \u001b[39mself\u001b[39m\u001b[39m.\u001b[39ml \u001b[39m*\u001b[39m \u001b[39mself\u001b[39m\u001b[39m.\u001b[39mk\n\u001b[1;32m     31\u001b[0m \u001b[39mreturn\u001b[39;00m (n_bits \u001b[39m-\u001b[39m s)\u001b[39m/\u001b[39mn_bits\n",
      "File \u001b[0;32m~/Desktop/ITA/ELE32/lab/lab1.py:29\u001b[0m, in \u001b[0;36m<genexpr>\u001b[0;34m(.0)\u001b[0m\n\u001b[1;32m     26\u001b[0m decoded \u001b[39m=\u001b[39m \u001b[39mmap\u001b[39m(\u001b[39mself\u001b[39m\u001b[39m.\u001b[39mencoder\u001b[39m.\u001b[39mdecode, transmitted)\n\u001b[1;32m     28\u001b[0m \u001b[39m# s = sum((x == y).all() for x, y in zip(words, decoded))\u001b[39;00m\n\u001b[0;32m---> 29\u001b[0m s \u001b[39m=\u001b[39m \u001b[39msum\u001b[39m((x \u001b[39m==\u001b[39m y)\u001b[39m.\u001b[39msum() \u001b[39mfor\u001b[39;00m x, y \u001b[39min\u001b[39;00m \u001b[39mzip\u001b[39m(words, decoded))\n\u001b[1;32m     30\u001b[0m n_bits \u001b[39m=\u001b[39m \u001b[39mself\u001b[39m\u001b[39m.\u001b[39ml \u001b[39m*\u001b[39m \u001b[39mself\u001b[39m\u001b[39m.\u001b[39mk\n\u001b[1;32m     31\u001b[0m \u001b[39mreturn\u001b[39;00m (n_bits \u001b[39m-\u001b[39m s)\u001b[39m/\u001b[39mn_bits\n",
      "File \u001b[0;32m~/Desktop/ITA/ELE32/lab/encoder.py:257\u001b[0m, in \u001b[0;36mConvolutionalEncoder.decode\u001b[0;34m(self, word, dist_func)\u001b[0m\n\u001b[1;32m    254\u001b[0m     minParent[child1][k] \u001b[39m=\u001b[39m node\n\u001b[1;32m    256\u001b[0m v2, child2 \u001b[39m=\u001b[39m \u001b[39mself\u001b[39m\u001b[39m.\u001b[39m_transaction(\u001b[39m1\u001b[39m, node)\n\u001b[0;32m--> 257\u001b[0m nd \u001b[39m=\u001b[39m minDist[node][k] \u001b[39m+\u001b[39m dist_func(v2, np\u001b[39m.\u001b[39;49marray(word[k]))\n\u001b[1;32m    258\u001b[0m \u001b[39mif\u001b[39;00m nd \u001b[39m<\u001b[39m minDist[child2][k\u001b[39m+\u001b[39m\u001b[39m1\u001b[39m]:\n\u001b[1;32m    259\u001b[0m     minDist[child2][k\u001b[39m+\u001b[39m\u001b[39m1\u001b[39m] \u001b[39m=\u001b[39m nd\n",
      "\u001b[0;31mKeyboardInterrupt\u001b[0m: "
     ]
    }
   ],
   "source": [
    "def simulate_convolutional(m,G,k=None):\n",
    "    n = 3\n",
    "    conv_encoder = ConvolutionalEncoder(n, m, G)\n",
    "\n",
    "    conv_sim = []\n",
    "    for prob in p:\n",
    "        if k is None:\n",
    "            sim_k = int(8000/prob) # min(int(8000/prob), 1_000_000)\n",
    "        else:\n",
    "            sim_k = k\n",
    "        channel = BSC(prob)\n",
    "        sim = Simulator(conv_encoder, channel, k=sim_k, l=1)\n",
    "        simulated = sim.simulate()\n",
    "        conv_sim.append(simulated)\n",
    "\n",
    "    return list(zip(p, conv_sim))\n",
    "\n",
    "mG = [\n",
    "    (3, np.array([[1,0,1,1], [1,1,0,1], [1,1,1,1]])),\n",
    "    (4, np.array([[1,0,1,0,1], [1,1,0,1,1], [1,1,1,1,1]])), \n",
    "    (6, np.array([[1,0,0,1,1,1,1], [1,0,1,0,1,1,1], [1,1,0,1,1,0,1]])),\n",
    "]\n",
    "\n",
    "conv_sim = []\n",
    "for m,G in mG:\n",
    "    sim = safe_load(f'lab3_values/conv{m}.pickle', lambda: simulate_convolutional(m,G))\n",
    "    conv_sim.append(sim)\n",
    "    print(f'm={m}')\n",
    "    print(sim)"
   ]
  },
  {
   "cell_type": "code",
   "execution_count": null,
   "metadata": {},
   "outputs": [],
   "source": [
    "import matplotlib.pyplot as plt\n",
    "\n",
    "fig = plt.figure()\n",
    "ax = plt.gca()\n",
    "# plt.plot(p, naive_sim)\n",
    "plt.plot([k for k,_ in conv_sim[0]], [v for _,v in conv_sim[0]])\n",
    "ax.set_yscale('log')\n",
    "ax.set_xscale('log')\n",
    "ax.invert_xaxis()"
   ]
  }
 ],
 "metadata": {
  "interpreter": {
   "hash": "0eac290d8ee919c10ac36ff98d6810291bef4cb71cb2886f70be001c3ae785dc"
  },
  "kernelspec": {
   "display_name": "Python 3.10.0 ('xp')",
   "language": "python",
   "name": "python3"
  },
  "language_info": {
   "codemirror_mode": {
    "name": "ipython",
    "version": 3
   },
   "file_extension": ".py",
   "mimetype": "text/x-python",
   "name": "python",
   "nbconvert_exporter": "python",
   "pygments_lexer": "ipython3",
   "version": "3.10.0"
  },
  "orig_nbformat": 4
 },
 "nbformat": 4,
 "nbformat_minor": 2
}
