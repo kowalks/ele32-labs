{
 "cells": [
  {
   "cell_type": "markdown",
   "metadata": {},
   "source": [
    "# Lab 1: Códigos de Bloco\n",
    "\n",
    "Alunos: Fernando Zanchitta e Guilherme Kowalczuk"
   ]
  },
  {
   "cell_type": "markdown",
   "metadata": {},
   "source": [
    "# 1. Simulação"
   ]
  },
  {
   "cell_type": "code",
   "execution_count": 1,
   "metadata": {},
   "outputs": [],
   "source": [
    "from channel import BSC\n",
    "from encoder import HammingEncoder, NaiveEncoder, CyclicEncoder\n",
    "from lab1 import Simulator\n",
    "\n",
    "import numpy as np\n",
    "import random\n",
    "random.seed(2023)\n",
    "\n",
    "p = [5e-1, 2e-1, 1e-1, 5e-2, 2e-2, 1e-2, 5e-3, 2e-3, 1e-3, 5e-4, 2e-4, 1e-4, 5e-5, 2e-5, 1e-5]\n",
    "k = 4\n",
    "l = 1000000//k"
   ]
  },
  {
   "cell_type": "markdown",
   "metadata": {},
   "source": [
    "## 1.1. Naive Encoder"
   ]
  },
  {
   "cell_type": "code",
   "execution_count": 4,
   "metadata": {},
   "outputs": [
    {
     "name": "stdout",
     "output_type": "stream",
     "text": [
      "[(0.5, 0.500831), (0.2, 0.199307), (0.1, 0.100258), (0.05, 0.050281), (0.02, 0.020018), (0.01, 0.009992), (0.005, 0.004897), (0.002, 0.001971), (0.001, 0.001009), (0.0005, 0.000483), (0.0002, 0.000207), (0.0001, 0.000105), (5e-05, 4.1e-05), (2e-05, 2e-05), (1e-05, 1.2e-05)]\n"
     ]
    }
   ],
   "source": [
    "naive_encoder = NaiveEncoder()\n",
    "\n",
    "channels = map(BSC, p)\n",
    "sim = map(lambda channel: Simulator(naive_encoder, channel, k=k, l=l), channels)\n",
    "naive_sim = list(map(Simulator.simulate, sim))\n",
    "\n",
    "print(list(zip(p, naive_sim)))"
   ]
  },
  {
   "cell_type": "markdown",
   "metadata": {},
   "source": [
    "## 1.2. Hamming Encoder"
   ]
  },
  {
   "cell_type": "code",
   "execution_count": 5,
   "metadata": {},
   "outputs": [],
   "source": [
    "hamming_encoder = HammingEncoder()\n",
    "\n",
    "channels = map(BSC, p)\n",
    "sim = map(lambda channel: Simulator(hamming_encoder, channel, k=k, l=l), channels)\n",
    "hamming_sim = list(map(Simulator.simulate, sim))\n",
    "\n",
    "print(list(zip(p, hamming_sim)))"
   ]
  },
  {
   "cell_type": "markdown",
   "metadata": {},
   "source": [
    "## 1.2. Cyclic Encoder"
   ]
  },
  {
   "cell_type": "code",
   "execution_count": null,
   "metadata": {},
   "outputs": [],
   "source": [
    "import pickle\n",
    "import os.path\n",
    "\n",
    "def safe_load(filename, callback):\n",
    "    if os.path.isfile(filename):\n",
    "        with open(filename, 'rb') as f:\n",
    "            data = pickle.load(f)\n",
    "        return data\n",
    "    data = callback()\n",
    "    with open(filename, 'wb') as f:\n",
    "        pickle.dump(data, f)\n",
    "    return data"
   ]
  },
  {
   "cell_type": "code",
   "execution_count": 3,
   "metadata": {},
   "outputs": [
    {
     "name": "stdout",
     "output_type": "stream",
     "text": [
      "[(0.5, 0.499559998239993), (0.2, 0.30123920495681983), (0.1, 0.15958863835455342), (0.05, 0.08065732262929051), (0.02, 0.032429129716518866), (0.01, 0.016614066456265824), (0.005, 0.008411033644134577), (0.002, 0.0032040128160512643), (0.001, 0.0016980067920271682), (0.0005, 0.000878003512014048), (0.0002, 0.000364001456005824), (0.0001, 0.00015200060800243202), (5e-05, 6.800027200108801e-05), (2e-05, 3.2000128000512e-05), (1e-05, 1.4000056000224001e-05)]\n",
      "[(0.5, 0.49873349873349876), (0.2, 0.31394431394431394), (0.1, 0.14064714064714065), (0.05, 0.04758804758804759), (0.02, 0.008991008991008992), (0.01, 0.002355002355002355), (0.005, 0.000687000687000687), (0.002, 0.00015000015000015), (0.001, 3.000003000003e-05), (0.0005, 1.2000012000012e-05), (0.0002, 0.0), (0.0001, 5.000005000005e-06), (5e-05, 0.0), (2e-05, 0.0), (1e-05, 0.0)]\n"
     ]
    }
   ],
   "source": [
    "def func():\n",
    "    G = np.genfromtxt(f'lab2_values/g{n}_{k}.csv', delimiter=',', dtype=int)\n",
    "    H = np.genfromtxt(f'lab2_values/h{n}_{k}.csv', delimiter=',', dtype=int)\n",
    "    mapped_s = np.genfromtxt(f'lab2_values/s{n}_{k}.csv', delimiter=',', dtype=int).tolist()\n",
    "    k = G.shape[0]\n",
    "    l = 1000000//k\n",
    "\n",
    "    cyclic_encoder = CyclicEncoder(G,H,mapped_s)\n",
    "    channels = map(BSC, p)\n",
    "    sim = map(lambda channel: Simulator(cyclic_encoder, channel, k=k, l=l), channels)\n",
    "    cyclic_sim = list(map(Simulator.simulate, sim))\n",
    "    return cyclic_sim\n",
    "\n",
    "nk = [(10,6), (12,7), (14,8), (15,9), (16,9), (18,10), (20,11)]\n",
    "cyc_sim = []\n",
    "\n",
    "for n,k in nk:\n",
    "    cyclic_sim = safe_load('lab2_values/{n}_{k}.pickle', func)\n",
    "    cyc_sim.append(cyclic_sim)\n",
    "    print(list(zip(p, cyclic_sim)))\n",
    "    with open(f'lab2_values/{n}_{k}.pickle', 'wb') as f:\n",
    "        pickle.dump(cyclic_sim, f)\n"
   ]
  },
  {
   "cell_type": "markdown",
   "metadata": {},
   "source": [
    "## 2. Comparação"
   ]
  },
  {
   "cell_type": "code",
   "execution_count": null,
   "metadata": {},
   "outputs": [
    {
     "data": {
      "image/png": "[encoded data removed]",
      "text/plain": [
       "<Figure size 432x288 with 1 Axes>"
      ]
     },
     "metadata": {
      "needs_background": "light"
     },
     "output_type": "display_data"
    }
   ],
   "source": [
    "import matplotlib.pyplot as plt\n",
    "\n",
    "fig = plt.figure()\n",
    "ax = plt.gca()\n",
    "plt.plot(p, naive_sim, p, hamming_sim, p, cyclic_sim)\n",
    "ax.set_yscale('log')\n",
    "ax.set_xscale('log')\n",
    "ax.invert_xaxis()\n",
    "ax.legend(['Naive', 'Hamming', 'Alternative'])\n",
    "plt.xlabel('p')\n",
    "plt.ylabel('Pb')\n",
    "plt.minorticks_off()\n",
    "plt.show()\n",
    "# plt.savefig('grafico.png')"
   ]
  },
  {
   "cell_type": "code",
   "execution_count": null,
   "metadata": {},
   "outputs": [],
   "source": [
    "import numpy as np\n",
    "G = np.array([[1,0,0,0,0,0,0,0,0,0,0,1,1,1,1],\n",
    "                [0,1,0,0,0,0,0,0,0,0,0,0,1,1,1],\n",
    "                [0,0,1,0,0,0,0,0,0,0,0,1,0,1,1],\n",
    "                [0,0,0,1,0,0,0,0,0,0,0,1,1,0,1],\n",
    "                [0,0,0,0,1,0,0,0,0,0,0,1,1,1,0],\n",
    "                [0,0,0,0,0,1,0,0,0,0,0,0,0,1,1],\n",
    "                [0,0,0,0,0,0,1,0,0,0,0,0,1,0,1],\n",
    "                [0,0,0,0,0,0,0,1,0,0,0,0,1,1,0],\n",
    "                [0,0,0,0,0,0,0,0,1,0,0,1,0,1,0],\n",
    "                [0,0,0,0,0,0,0,0,0,1,0,1,1,0,0],\n",
    "                [0,0,0,0,0,0,0,0,0,0,1,1,0,0,1]])"
   ]
  },
  {
   "cell_type": "code",
   "execution_count": null,
   "metadata": {},
   "outputs": [
    {
     "name": "stdout",
     "output_type": "stream",
     "text": [
      "1 & 0 & 1 & 1 & 1 & 0 & 0 & 0 & 1 & 1 & 1 \\\\\n",
      "1 & 1 & 0 & 1 & 1 & 0 & 1 & 1 & 0 & 1 & 0 \\\\\n",
      "1 & 1 & 1 & 0 & 1 & 1 & 0 & 1 & 1 & 0 & 0 \\\\\n",
      "1 & 1 & 1 & 1 & 0 & 1 & 1 & 0 & 0 & 0 & 1 \\\\\n"
     ]
    }
   ],
   "source": [
    "for i in G[:,-4:].T:\n",
    "    print(\" & \".join([str(k) for k in i]) + \" \\\\\\\\\")"
   ]
  },
  {
   "cell_type": "code",
   "execution_count": null,
   "metadata": {},
   "outputs": [],
   "source": []
  }
 ],
 "metadata": {
  "interpreter": {
   "hash": "0eac290d8ee919c10ac36ff98d6810291bef4cb71cb2886f70be001c3ae785dc"
  },
  "kernelspec": {
   "display_name": "Python 3.10.0 ('xp')",
   "language": "python",
   "name": "python3"
  },
  "language_info": {
   "codemirror_mode": {
    "name": "ipython",
    "version": 3
   },
   "file_extension": ".py",
   "mimetype": "text/x-python",
   "name": "python",
   "nbconvert_exporter": "python",
   "pygments_lexer": "ipython3",
   "version": "3.10.0"
  },
  "orig_nbformat": 4
 },
 "nbformat": 4,
 "nbformat_minor": 2
}
