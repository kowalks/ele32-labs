{
 "cells": [
  {
   "cell_type": "markdown",
   "metadata": {},
   "source": [
    "# Lab 4: Comparação Justa\n",
    "\n",
    "Alunos: Fernando Zanchitta e Guilherme Kowalczuk"
   ]
  },
  {
   "cell_type": "markdown",
   "metadata": {},
   "source": [
    "## 1. Simulação"
   ]
  },
  {
   "cell_type": "code",
   "execution_count": 88,
   "metadata": {},
   "outputs": [],
   "source": [
    "from channel import BSC\n",
    "from encoder import NaiveEncoder, ConvolutionalEncoder, ConvEncoderEuclidean\n",
    "from lab1 import Simulator\n",
    "from helpers import safe_load\n",
    "\n",
    "import numpy as np\n",
    "import random\n",
    "random.seed(2023)\n",
    "\n",
    "p = [5e-1, 2e-1, 1e-1, 5e-2, 2e-2, 1e-2, 5e-3, 2e-3, 1e-3, 5e-4, 2e-4, 1e-4, 5e-5, 2e-5, 1e-5]"
   ]
  },
  {
   "cell_type": "markdown",
   "metadata": {},
   "source": [
    "### 1.1. Naive Encoder\n",
    "\n",
    "Taxa = 1"
   ]
  },
  {
   "cell_type": "code",
   "execution_count": 3,
   "metadata": {},
   "outputs": [],
   "source": [
    "naive_sim = safe_load('lab4_values/naive.pickle', None)\n",
    "naive_rate = 1"
   ]
  },
  {
   "cell_type": "markdown",
   "metadata": {},
   "source": [
    "### 1.2. Convolutional Encoder - BSC\n",
    "\n",
    "Taxa = 1/3"
   ]
  },
  {
   "cell_type": "code",
   "execution_count": 4,
   "metadata": {},
   "outputs": [],
   "source": [
    "conv_bsc_sim = safe_load('lab4_values/conv_bsc.pickle', None)\n",
    "conv_bsc_rate = 1/3"
   ]
  },
  {
   "cell_type": "markdown",
   "metadata": {},
   "source": [
    "### 1.3 Hamming\n",
    "\n",
    "Taxa = 4/7"
   ]
  },
  {
   "cell_type": "code",
   "execution_count": 89,
   "metadata": {},
   "outputs": [],
   "source": [
    "hamming_sim = list(zip(p, safe_load('lab4_values/hamming.pickle', None)))\n",
    "hamming_rate = 4/7"
   ]
  },
  {
   "cell_type": "markdown",
   "metadata": {},
   "source": [
    "### 1.4 Alternative Hamming\n",
    "\n",
    "Taxa = 11/15"
   ]
  },
  {
   "cell_type": "code",
   "execution_count": 6,
   "metadata": {},
   "outputs": [],
   "source": [
    "alt_sim = list(zip(p, safe_load('lab4_values/alternative.pickle', None)))\n",
    "alt_rate = 11/15"
   ]
  },
  {
   "cell_type": "markdown",
   "metadata": {},
   "source": [
    "### 1.5 Código Cíclico (12,7)\n",
    "\n",
    "Taxa = 7/12"
   ]
  },
  {
   "cell_type": "code",
   "execution_count": 95,
   "metadata": {},
   "outputs": [
    {
     "data": {
      "text/plain": [
       "[(0.5, 0.49873349873349876),\n",
       " (0.2, 0.31394431394431394),\n",
       " (0.1, 0.14064714064714065),\n",
       " (0.05, 0.04758804758804759),\n",
       " (0.02, 0.008991008991008992),\n",
       " (0.01, 0.002355002355002355),\n",
       " (0.005, 0.000687000687000687),\n",
       " (0.002, 0.00015000015000015),\n",
       " (0.001, 3.000003000003e-05),\n",
       " (0.0005, 1.2000012000012e-05),\n",
       " (0.0002, 0.0),\n",
       " (0.0001, 5.000005000005e-06),\n",
       " (5e-05, 0.0),\n",
       " (2e-05, 0.0),\n",
       " (1e-05, 0.0)]"
      ]
     },
     "execution_count": 95,
     "metadata": {},
     "output_type": "execute_result"
    }
   ],
   "source": [
    "cyclic_sim = list(zip(p, safe_load('lab4_values/12_7.pickle', None)))\n",
    "cyclic_rate = 7/12\n",
    "cyclic_sim"
   ]
  },
  {
   "cell_type": "markdown",
   "metadata": {},
   "source": [
    "## 2. Comparações"
   ]
  },
  {
   "cell_type": "code",
   "execution_count": 12,
   "metadata": {},
   "outputs": [],
   "source": [
    "nmg = [\n",
    "    (3, 3, np.array([[1,0,1,1], [1,1,0,1], [1,1,1,1]])),\n",
    "    (3, 4, np.array([[1,0,1,0,1], [1,1,0,1,1], [1,1,1,1,1]])), \n",
    "    (3, 6, np.array([[1,0,0,1,1,1,1], [1,0,1,0,1,1,1], [1,1,0,1,1,0,1]])),\n",
    "]"
   ]
  },
  {
   "cell_type": "markdown",
   "metadata": {},
   "source": [
    "### 2.1 Tempo de codificação\n",
    "\n",
    "Para codificação:\n",
    "  - m = 3, t = 6.9 s/1000000 = 6.9 us\n",
    "  - m = 4, t = 7.5 s/1000000 = 7.5 us\n",
    "  - m = 6, t = 7.8 s/1000000 = 7.8 us"
   ]
  },
  {
   "cell_type": "code",
   "execution_count": 13,
   "metadata": {},
   "outputs": [],
   "source": [
    "n, m, G = nmg[0]\n",
    "enc = ConvolutionalEncoder(n, m, G)\n",
    "word = np.ones((1_000_000,), dtype=int)\n",
    "encoded = enc.encode(word)"
   ]
  },
  {
   "cell_type": "code",
   "execution_count": 14,
   "metadata": {},
   "outputs": [],
   "source": [
    "n, m, G = nmg[1]\n",
    "enc = ConvolutionalEncoder(n, m, G)\n",
    "word = np.ones((1_000_000,), dtype=int)\n",
    "encoded = enc.encode(word)"
   ]
  },
  {
   "cell_type": "code",
   "execution_count": 15,
   "metadata": {},
   "outputs": [],
   "source": [
    "n, m, G = nmg[2]\n",
    "enc = ConvolutionalEncoder(n, m, G)\n",
    "word = np.ones((1_000_000,), dtype=int)\n",
    "encoded = enc.encode(word)"
   ]
  },
  {
   "cell_type": "markdown",
   "metadata": {},
   "source": [
    "### 2.2 Tempo de Decodificação - BSC\n",
    "\n",
    "Para decodificação:\n",
    "  - m = 3, t = 2.2 s/30000 = 73 us\n",
    "  - m = 4, t = 3.8 s/30000 = 126 us\n",
    "  - m = 6, t = 16.7 s/30000 = 557 us"
   ]
  },
  {
   "cell_type": "code",
   "execution_count": 26,
   "metadata": {},
   "outputs": [],
   "source": [
    "import random\n",
    "word = np.array(random.choices([0,1], k=30_000))"
   ]
  },
  {
   "cell_type": "code",
   "execution_count": 27,
   "metadata": {},
   "outputs": [
    {
     "name": "stderr",
     "output_type": "stream",
     "text": [
      "100%|██████████| 10000/10000 [00:01<00:00, 5215.82it/s]\n"
     ]
    }
   ],
   "source": [
    "n, m, G = nmg[0]\n",
    "enc = ConvolutionalEncoder(n, m, G)\n",
    "decoded = enc.decode(word)"
   ]
  },
  {
   "cell_type": "code",
   "execution_count": 30,
   "metadata": {},
   "outputs": [
    {
     "name": "stderr",
     "output_type": "stream",
     "text": [
      "100%|██████████| 10000/10000 [00:03<00:00, 2608.67it/s]\n"
     ]
    }
   ],
   "source": [
    "n, m, G = nmg[1]\n",
    "enc = ConvolutionalEncoder(n, m, G)\n",
    "decoded = enc.decode(word)"
   ]
  },
  {
   "cell_type": "code",
   "execution_count": 31,
   "metadata": {},
   "outputs": [
    {
     "name": "stderr",
     "output_type": "stream",
     "text": [
      "100%|██████████| 10000/10000 [00:16<00:00, 599.58it/s]\n"
     ]
    }
   ],
   "source": [
    "n, m, G = nmg[2]\n",
    "enc = ConvolutionalEncoder(n, m, G)\n",
    "decoded = enc.decode(word)"
   ]
  },
  {
   "cell_type": "markdown",
   "metadata": {},
   "source": [
    "### 2.3 Tempo de Decodificação - BPSK_AWGN\n",
    "\n",
    "Para decodificação:\n",
    "  - m = 3, t = 2.3 s/30000 = 77 us\n",
    "  - m = 4, t = 4.1 s/30000 = 137 us\n",
    "  - m = 6, t = 17.8 s/30000 = 593 us"
   ]
  },
  {
   "cell_type": "code",
   "execution_count": 34,
   "metadata": {},
   "outputs": [
    {
     "name": "stderr",
     "output_type": "stream",
     "text": [
      "100%|██████████| 10000/10000 [00:01<00:00, 5000.41it/s]\n"
     ]
    }
   ],
   "source": [
    "n, m, G = nmg[0]\n",
    "enc = ConvEncoderEuclidean(n, m, G)\n",
    "decoded = enc.decode(word)"
   ]
  },
  {
   "cell_type": "code",
   "execution_count": 35,
   "metadata": {},
   "outputs": [
    {
     "name": "stderr",
     "output_type": "stream",
     "text": [
      "100%|██████████| 10000/10000 [00:04<00:00, 2401.08it/s]\n"
     ]
    }
   ],
   "source": [
    "n, m, G = nmg[1]\n",
    "enc = ConvEncoderEuclidean(n, m, G)\n",
    "decoded = enc.decode(word)"
   ]
  },
  {
   "cell_type": "code",
   "execution_count": 37,
   "metadata": {},
   "outputs": [
    {
     "name": "stderr",
     "output_type": "stream",
     "text": [
      "100%|██████████| 10000/10000 [00:17<00:00, 563.02it/s]\n"
     ]
    }
   ],
   "source": [
    "n, m, G = nmg[2]\n",
    "enc = ConvEncoderEuclidean(n, m, G)\n",
    "decoded = enc.decode(word)"
   ]
  },
  {
   "cell_type": "markdown",
   "metadata": {},
   "source": [
    "### 2.4 Converter p(Eb/N0)"
   ]
  },
  {
   "cell_type": "code",
   "execution_count": 38,
   "metadata": {},
   "outputs": [],
   "source": [
    "from scipy import special as sp\n",
    "from math import sqrt\n",
    "\n",
    "def qfunc(x):\n",
    "    return 0.5-0.5*sp.erf(x/sqrt(2))\n",
    "\n",
    "def invqfunc(x):\n",
    "    return sqrt(2)*sp.erfinv(1-2*x)\n",
    "\n",
    "def translate(p, R, db=True):\n",
    "    \"\"\"Eb/N0 dado probabilidade p do BSC(BPSK)\"\"\"\n",
    "    eb_n0 = map(lambda x: (invqfunc(x)**2)/(2*R), p)\n",
    "    if db:\n",
    "        eb_n0 = map(lambda x: 10*np.log10(x), eb_n0)\n",
    "    return list(eb_n0)"
   ]
  },
  {
   "cell_type": "code",
   "execution_count": 91,
   "metadata": {},
   "outputs": [],
   "source": [
    "# Naive\n",
    "naive_eb_n0 = translate([k for k,v in naive_sim[1:]], naive_rate)\n",
    "naive_prob = [v for k,v in naive_sim[1:]]\n",
    "\n",
    "# Convolutional\n",
    "conv_bsc_eb_n0 = []\n",
    "conv_bsc_prob = []\n",
    "for sim in conv_bsc_sim:\n",
    "    conv_bsc_eb_n0.append(translate([k for k,v in sim[1:]], conv_bsc_rate))\n",
    "    conv_bsc_prob.append([v for k,v in sim[1:]])\n",
    "\n",
    "# Hamming\n",
    "hamming_eb_n0 = translate([k for k,v in hamming_sim[1:]], hamming_rate)\n",
    "hamming_prob = [v for k,v in hamming_sim[1:]]\n",
    "\n",
    "# Alternative\n",
    "alt_eb_n0 = translate([k for k,v in alt_sim[1:]], alt_rate)\n",
    "alt_prob = [v for k,v in alt_sim[1:]]\n",
    "\n",
    "# Cyclic\n",
    "cyclic_eb_n0 = translate([k for k,v in cyclic_sim[1:]], cyclic_rate)\n",
    "cyclic_prob = [v for k,v in cyclic_sim[1:]]"
   ]
  },
  {
   "cell_type": "code",
   "execution_count": null,
   "metadata": {},
   "outputs": [],
   "source": [
    "def beautify(l, i):\n",
    "    return l[:i] + l[(i+1):]"
   ]
  },
  {
   "cell_type": "code",
   "execution_count": null,
   "metadata": {},
   "outputs": [],
   "source": [
    "conv_bsc_eb_n0_ = beautify(conv_bsc_eb_n0, 4)\n",
    "conv_bsc_prob_ = beautify(conv_bsc_prob, 4)"
   ]
  },
  {
   "cell_type": "code",
   "execution_count": 179,
   "metadata": {},
   "outputs": [
    {
     "data": {
      "image/png": "[encoded data removed]",
      "text/plain": [
       "<Figure size 576x432 with 1 Axes>"
      ]
     },
     "metadata": {
      "needs_background": "light"
     },
     "output_type": "display_data"
    }
   ],
   "source": [
    "import matplotlib.pyplot as plt\n",
    "\n",
    "fig = plt.figure(figsize=(8, 6))\n",
    "ax = plt.gca()\n",
    "lw = 2\n",
    "\n",
    "plt.grid(visible=True, which='major', axis='both', linewidth=1)\n",
    "plt.grid(visible=True, which='minor', axis='y', linestyle='dotted')\n",
    "\n",
    "plt.plot(naive_eb_n0, naive_prob, linewidth=lw)\n",
    "plt.plot(hamming_eb_n0, hamming_prob, linewidth=lw)\n",
    "plt.plot(alt_eb_n0, alt_prob, linewidth=lw)\n",
    "plt.plot(cyclic_eb_n0, cyclic_prob, linewidth=lw)\n",
    "\n",
    "# Primeiro\n",
    "prob = conv_bsc_prob[0][:24] + conv_bsc_prob[0][26:31]\n",
    "sim = conv_bsc_eb_n0[0][:24] + conv_bsc_eb_n0[0][26:31]\n",
    "plt.plot(sim, prob, linewidth=lw)\n",
    "\n",
    "# Segundo\n",
    "prob = conv_bsc_prob[1][:18] + conv_bsc_prob[1][19:23]\n",
    "sim = conv_bsc_eb_n0[1][:18] + conv_bsc_eb_n0[1][19:23]\n",
    "plt.plot(sim, prob, linewidth=lw)\n",
    "\n",
    "# Terceiro\n",
    "prob = conv_bsc_prob[2][:6] + conv_bsc_prob[2][7:11] + conv_bsc_prob[2][12:13] + conv_bsc_prob[2][15:16] + conv_bsc_prob[2][17:19]\n",
    "sim = conv_bsc_eb_n0[2][:6] + conv_bsc_eb_n0[2][7:11] + conv_bsc_eb_n0[2][12:13] + conv_bsc_eb_n0[2][15:16] + conv_bsc_eb_n0[2][17:19]\n",
    "plt.plot(sim, prob, linewidth=lw)\n",
    "\n",
    "# Linha\n",
    "plt.plot([-3,10], [1e-4,1e-4], color='red', linestyle='dashed')\n",
    "\n",
    "# Linhas verticais\n",
    "Rs = set([naive_rate, conv_bsc_rate, hamming_rate, alt_rate, cyclic_rate])\n",
    "for i, r in enumerate(Rs):\n",
    "    snr = 2**(2*r)-1\n",
    "    snr_db = 10*np.log10(snr)\n",
    "    plt.plot([snr_db, snr_db], [1e-5, 1], color='blue', linestyle='dashed')\n",
    "    if i == 2:\n",
    "        plt.text(snr_db, 1.1, f'$C={float(r):.2}$', ha='right')\n",
    "    else:\n",
    "        plt.text(snr_db, 1.1, f'$C={float(r):.2}$')\n",
    "\n",
    "ax.set_yscale('log')\n",
    "# ax.set_xscale('log')\n",
    "# ax.invert_xaxis()\n",
    "plt.ylim(1e-5, 1)\n",
    "plt.xlim(-3,10)\n",
    "ax.legend(['Naive', 'Hamming', 'Alternative', 'Cíclico (12,7)'] + [f'Conv m={m}' for m in [3,4,6]])\n",
    "plt.ylabel('Bit Error Rate (BER)')\n",
    "plt.xlabel(r'$\\dfrac{Eb}{N0}$, dB')\n",
    "plt.minorticks_on()\n",
    "plt.show()"
   ]
  },
  {
   "cell_type": "code",
   "execution_count": 157,
   "metadata": {},
   "outputs": [
    {
     "data": {
      "text/plain": [
       "{0.3333333333333333,\n",
       " 0.5714285714285714,\n",
       " 0.5833333333333334,\n",
       " 0.7333333333333333,\n",
       " 1}"
      ]
     },
     "execution_count": 157,
     "metadata": {},
     "output_type": "execute_result"
    }
   ],
   "source": [
    "# r=1/3\n",
    "# snr = 2**(2*r)-1\n",
    "# snr_db = 10*np.log10(snr)\n",
    "# snr_db\n",
    "Rs"
   ]
  },
  {
   "cell_type": "code",
   "execution_count": 128,
   "metadata": {},
   "outputs": [
    {
     "data": {
      "image/png": "[encoded data removed]",
      "text/plain": [
       "<Figure size 432x288 with 1 Axes>"
      ]
     },
     "metadata": {
      "needs_background": "light"
     },
     "output_type": "display_data"
    }
   ],
   "source": [
    "plt.figure()\n",
    "ax = plt.gca()\n",
    "plt.plot(conv_bsc_prob[2][:6] + conv_bsc_prob[2][7:13] + conv_bsc_prob[2][15:16] + conv_bsc_prob[2][17:19])\n",
    "# plt.plot(conv_bsc_prob[2])\n",
    "ax.set_yscale('log')\n",
    "plt.show()"
   ]
  },
  {
   "cell_type": "code",
   "execution_count": 124,
   "metadata": {},
   "outputs": [
    {
     "data": {
      "text/plain": [
       "[(0, 0.32296786705453573),\n",
       " (1, 0.15569706001896763),\n",
       " (2, 0.05653280230113951),\n",
       " (3, 0.01812200087247346),\n",
       " (4, 0.004336149079506069),\n",
       " (5, 0.0016527777777777778),\n",
       " (6, 0.0004844899468336032),\n",
       " (7, 0.0011065385237035471),\n",
       " (8, 0.00093694368968425),\n",
       " (9, 0.0005705366273749933),\n",
       " (10, 0.00022737608003638017),\n",
       " (11, 5.940064746705739e-05),\n",
       " (12, 0.0001002049647005238),\n",
       " (13, 0.0),\n",
       " (14, 1.677191040445462e-05),\n",
       " (15, 3.861570423459813e-05),\n",
       " (16, 0.0),\n",
       " (17, 2.1346691618577315e-05),\n",
       " (18, 0.0),\n",
       " (19, 1.8139053987871018e-05),\n",
       " (20, 0.0),\n",
       " (21, 0.0),\n",
       " (22, 0.0),\n",
       " (23, 0.0),\n",
       " (24, 0.0),\n",
       " (25, 0.0),\n",
       " (26, 0.0),\n",
       " (27, 0.0),\n",
       " (28, 0.0),\n",
       " (29, 0.0),\n",
       " (30, 0.0),\n",
       " (31, 0.0),\n",
       " (32, 0.0),\n",
       " (33, 0.0),\n",
       " (34, 0.0),\n",
       " (35, 0.0),\n",
       " (36, 0.0),\n",
       " (37, 0.0),\n",
       " (38, 0.0)]"
      ]
     },
     "execution_count": 124,
     "metadata": {},
     "output_type": "execute_result"
    }
   ],
   "source": [
    "list(enumerate(conv_bsc_prob[2]))"
   ]
  },
  {
   "cell_type": "code",
   "execution_count": null,
   "metadata": {},
   "outputs": [],
   "source": []
  }
 ],
 "metadata": {
  "interpreter": {
   "hash": "0eac290d8ee919c10ac36ff98d6810291bef4cb71cb2886f70be001c3ae785dc"
  },
  "kernelspec": {
   "display_name": "Python 3.10.0 ('xp')",
   "language": "python",
   "name": "python3"
  },
  "language_info": {
   "codemirror_mode": {
    "name": "ipython",
    "version": 3
   },
   "file_extension": ".py",
   "mimetype": "text/x-python",
   "name": "python",
   "nbconvert_exporter": "python",
   "pygments_lexer": "ipython3",
   "version": "3.10.0"
  },
  "orig_nbformat": 4
 },
 "nbformat": 4,
 "nbformat_minor": 2
}
