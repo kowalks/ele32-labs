{
 "cells": [
  {
   "cell_type": "code",
   "execution_count": 139,
   "metadata": {},
   "outputs": [],
   "source": [
    "import numpy as np\n",
    "\n",
    "n = 3\n",
    "m = 2\n",
    "G = np.array([[1, 0, 1], [1, 1, 0]], dtype=int)\n",
    "\n",
    "word = np.array([1,0,0,0,0,0,0,0,0,0], dtype=int)"
   ]
  },
  {
   "cell_type": "code",
   "execution_count": 140,
   "metadata": {},
   "outputs": [],
   "source": [
    "def hamming_weight(word):\n",
    "    return word.sum()\n",
    "\n",
    "def hamming_dist(u, v):\n",
    "    k = (u+v) % 2\n",
    "    return hamming_weight(k)\n",
    "\n",
    "def _compute_transition(bit, M):\n",
    "    M = np.concatenate([[bit], M])\n",
    "    v = np.logical_and(G, M)\n",
    "    v = v.sum(axis=1) % 2\n",
    "    M = M[:-1]\n",
    "    return v, M"
   ]
  },
  {
   "cell_type": "code",
   "execution_count": 141,
   "metadata": {},
   "outputs": [],
   "source": [
    "def encode(word):\n",
    "    M = np.zeros(m)\n",
    "    V = []\n",
    "    for bit in word:\n",
    "        v, M = _compute_transition(bit, M)\n",
    "        V.append(v)\n",
    "    V = np.array(V).reshape(-1)\n",
    "    return V\n",
    "\n",
    "word = encode(word)"
   ]
  },
  {
   "cell_type": "code",
   "execution_count": 142,
   "metadata": {},
   "outputs": [
    {
     "data": {
      "text/plain": [
       "array([1, 1, 0, 1, 1, 0, 0, 0, 0, 0, 0, 0, 0, 0, 0, 0, 0, 0, 0, 0])"
      ]
     },
     "execution_count": 142,
     "metadata": {},
     "output_type": "execute_result"
    }
   ],
   "source": [
    "word"
   ]
  },
  {
   "cell_type": "code",
   "execution_count": 167,
   "metadata": {},
   "outputs": [
    {
     "name": "stdout",
     "output_type": "stream",
     "text": [
      "[[1 1]\n",
      " [0 1]\n",
      " [1 0]\n",
      " [0 0]\n",
      " [0 0]\n",
      " [0 0]\n",
      " [0 0]\n",
      " [0 0]\n",
      " [0 0]\n",
      " [0 0]]\n",
      " k=0   minDist=2  minPath=[0]\n",
      " k=2   minDist=0  minPath=[1]\n",
      " k=1   minDist=inf  minPath=[0]\n",
      " k=3   minDist=inf  minPath=[1]\n",
      "&&&&&&&&&\n",
      " k=0   minDist=3  minPath=[0, 0]\n",
      " k=2   minDist=3  minPath=[0, 1]\n",
      " k=1   minDist=0  minPath=[1, 0]\n",
      " k=3   minDist=2  minPath=[1, 1]\n",
      "&&&&&&&&&\n",
      " k=0   minDist=0  minPath=[1, 0, 0]\n",
      " k=2   minDist=2  minPath=[1, 0, 1]\n",
      " k=1   minDist=3  minPath=[1, 1, 0]\n",
      " k=3   minDist=3  minPath=[0, 1, 1]\n",
      "&&&&&&&&&\n",
      " k=0   minDist=0  minPath=[1, 0, 0, 0]\n",
      " k=2   minDist=2  minPath=[1, 0, 0, 1]\n",
      " k=1   minDist=3  minPath=[1, 0, 1, 0]\n",
      " k=3   minDist=3  minPath=[1, 0, 1, 1]\n",
      "&&&&&&&&&\n",
      " k=0   minDist=0  minPath=[1, 0, 0, 0, 0]\n",
      " k=2   minDist=2  minPath=[1, 0, 0, 0, 1]\n",
      " k=1   minDist=3  minPath=[1, 0, 0, 1, 0]\n",
      " k=3   minDist=3  minPath=[1, 0, 0, 1, 1]\n",
      "&&&&&&&&&\n",
      " k=0   minDist=0  minPath=[1, 0, 0, 0, 0, 0]\n",
      " k=2   minDist=2  minPath=[1, 0, 0, 0, 0, 1]\n",
      " k=1   minDist=3  minPath=[1, 0, 0, 0, 1, 0]\n",
      " k=3   minDist=3  minPath=[1, 0, 0, 0, 1, 1]\n",
      "&&&&&&&&&\n",
      " k=0   minDist=0  minPath=[1, 0, 0, 0, 0, 0, 0]\n",
      " k=2   minDist=2  minPath=[1, 0, 0, 0, 0, 0, 1]\n",
      " k=1   minDist=3  minPath=[1, 0, 0, 0, 0, 1, 0]\n",
      " k=3   minDist=3  minPath=[1, 0, 0, 0, 0, 1, 1]\n",
      "&&&&&&&&&\n",
      " k=0   minDist=0  minPath=[1, 0, 0, 0, 0, 0, 0, 0]\n",
      " k=2   minDist=2  minPath=[1, 0, 0, 0, 0, 0, 0, 1]\n",
      " k=1   minDist=3  minPath=[1, 0, 0, 0, 0, 0, 1, 0]\n",
      " k=3   minDist=3  minPath=[1, 0, 0, 0, 0, 0, 1, 1]\n",
      "&&&&&&&&&\n",
      " k=0   minDist=0  minPath=[1, 0, 0, 0, 0, 0, 0, 0, 0]\n",
      " k=2   minDist=2  minPath=[1, 0, 0, 0, 0, 0, 0, 0, 1]\n",
      " k=1   minDist=3  minPath=[1, 0, 0, 0, 0, 0, 0, 1, 0]\n",
      " k=3   minDist=3  minPath=[1, 0, 0, 0, 0, 0, 0, 1, 1]\n",
      "&&&&&&&&&\n",
      " k=0   minDist=0  minPath=[1, 0, 0, 0, 0, 0, 0, 0, 0, 0]\n",
      " k=2   minDist=2  minPath=[1, 0, 0, 0, 0, 0, 0, 0, 0, 1]\n",
      " k=1   minDist=3  minPath=[1, 0, 0, 0, 0, 0, 0, 0, 1, 0]\n",
      " k=3   minDist=3  minPath=[1, 0, 0, 0, 0, 0, 0, 0, 1, 1]\n",
      "&&&&&&&&&\n"
     ]
    }
   ],
   "source": [
    "from cmath import inf\n",
    "\n",
    "word = word.reshape((-1, m))\n",
    "print(word)\n",
    "minDist = {}\n",
    "minPath = {}\n",
    "\n",
    "for i in range(2**m):\n",
    "    minDist[i] = inf\n",
    "    # minPath[i] = [i]\n",
    "    minPath[i] = []\n",
    "minDist[0] = 0\n",
    "\n",
    "for k in range(word.shape[0]):\n",
    "    bits = np.array(list(range(2**m)), dtype='uint8')\n",
    "    nodes = np.unpackbits(bits).reshape((-1, 8))[:, -m:]\n",
    "    newDist = {}\n",
    "    newPath = {}\n",
    "    for node_repr, node in enumerate(nodes):\n",
    "        # print(node)\n",
    "\n",
    "        v1, child1 = _compute_transition(0, node)\n",
    "        v2, child2 = _compute_transition(1, node)\n",
    "\n",
    "        # print(f'v1={v1} child1={child1} node_repr={node_repr}')\n",
    "        # print(f'v2={v2} child1={child2} node_repr={node_repr}')\n",
    "\n",
    "        repr1 = np.packbits(np.flip(child1), bitorder='little')[0]\n",
    "        # print(f'    repr1={repr1}')\n",
    "        nd = minDist[node_repr] + hamming_dist(v1, np.array(word[k]))\n",
    "        # print(f' nd child1: {nd}')\n",
    "        if (newDist.get(repr1) and nd < newDist.get(repr1)) or newDist.get(repr1) is None:\n",
    "            # print(f'atualizando newDist[{repr1}] = {nd}')\n",
    "            newDist[repr1] = nd\n",
    "            newPath[repr1] = minPath[node_repr] + [0]\n",
    "\n",
    "        repr2 = np.packbits(np.flip(child2), bitorder='little')[0]\n",
    "        # print(f'    repr2={repr2}')\n",
    "        nd = minDist[node_repr] + hamming_dist(v2, np.array(word[k]))\n",
    "        # print(f' nd child2: {nd}')\n",
    "        # print(f'  newDist {not newDist.get(repr2)}')\n",
    "        if (newDist.get(repr2) and nd < newDist.get(repr2)) or newDist.get(repr2) is None:\n",
    "            # print(f'cond1: {(newDist.get(repr2) and nd < newDist.get(repr2))}  cond2: {(not newDist.get(repr2))}')\n",
    "            # print(f'atualizando newDist[{repr2}] = {nd}')\n",
    "            newDist[repr2] = nd\n",
    "            newPath[repr2] = minPath[node_repr] + [1]\n",
    "\n",
    "    \n",
    "    minDist = newDist\n",
    "    minPath = newPath\n",
    "\n",
    "    for k in minDist.keys():\n",
    "        print(f' k={k}   minDist={minDist[k]}  minPath={minPath[k]}')\n",
    "\n",
    "    print('&&&&&&&&&')\n",
    "\n",
    "node = min(minDist, key=minDist.get)\n",
    "path = minPath[node]\n",
    "np.array(path)\n"
   ]
  },
  {
   "cell_type": "code",
   "execution_count": 168,
   "metadata": {},
   "outputs": [
    {
     "data": {
      "text/plain": [
       "[1, 0, 0, 0, 0, 0, 0, 0, 0, 0]"
      ]
     },
     "execution_count": 168,
     "metadata": {},
     "output_type": "execute_result"
    }
   ],
   "source": [
    "path"
   ]
  },
  {
   "cell_type": "code",
   "execution_count": 83,
   "metadata": {},
   "outputs": [],
   "source": [
    "bits = np.array(list(range(2**m)), dtype='uint8')\n",
    "nodes = np.unpackbits(bits)"
   ]
  },
  {
   "cell_type": "code",
   "execution_count": 78,
   "metadata": {},
   "outputs": [
    {
     "data": {
      "text/plain": [
       "array([0, 1, 2, 3, 4, 5, 6, 7], dtype=uint8)"
      ]
     },
     "execution_count": 78,
     "metadata": {},
     "output_type": "execute_result"
    }
   ],
   "source": [
    "bits"
   ]
  },
  {
   "cell_type": "code",
   "execution_count": 94,
   "metadata": {},
   "outputs": [],
   "source": [
    "d = {\n",
    "}"
   ]
  },
  {
   "cell_type": "code",
   "execution_count": 111,
   "metadata": {},
   "outputs": [
    {
     "data": {
      "text/plain": [
       "array([3, 2, 1])"
      ]
     },
     "execution_count": 111,
     "metadata": {},
     "output_type": "execute_result"
    }
   ],
   "source": [
    "np.flip(np.array([1,2,3]))"
   ]
  },
  {
   "cell_type": "code",
   "execution_count": 97,
   "metadata": {},
   "outputs": [
    {
     "ename": "KeyError",
     "evalue": "0",
     "output_type": "error",
     "traceback": [
      "\u001b[0;31m---------------------------------------------------------------------------\u001b[0m",
      "\u001b[0;31mKeyError\u001b[0m                                  Traceback (most recent call last)",
      "\u001b[1;32m/Users/kowalks/Desktop/ITA/ELE32/lab/txt.ipynb Cell 16'\u001b[0m in \u001b[0;36m<cell line: 1>\u001b[0;34m()\u001b[0m\n\u001b[0;32m----> <a href='vscode-notebook-cell:/Users/kowalks/Desktop/ITA/ELE32/lab/txt.ipynb#ch0000021?line=0'>1</a>\u001b[0m d[\u001b[39m0\u001b[39;49m]\n",
      "\u001b[0;31mKeyError\u001b[0m: 0"
     ]
    }
   ],
   "source": [
    "d[0]"
   ]
  },
  {
   "cell_type": "code",
   "execution_count": 149,
   "metadata": {},
   "outputs": [],
   "source": [
    "d = {}"
   ]
  },
  {
   "cell_type": "code",
   "execution_count": 156,
   "metadata": {},
   "outputs": [],
   "source": [
    "if d.get(2):\n",
    "    print('hello')"
   ]
  },
  {
   "cell_type": "code",
   "execution_count": 153,
   "metadata": {},
   "outputs": [],
   "source": [
    "del d[2]"
   ]
  },
  {
   "cell_type": "code",
   "execution_count": 162,
   "metadata": {},
   "outputs": [
    {
     "data": {
      "text/plain": [
       "True"
      ]
     },
     "execution_count": 162,
     "metadata": {},
     "output_type": "execute_result"
    }
   ],
   "source": [
    "inf > 3"
   ]
  },
  {
   "cell_type": "code",
   "execution_count": null,
   "metadata": {},
   "outputs": [],
   "source": []
  }
 ],
 "metadata": {
  "interpreter": {
   "hash": "0eac290d8ee919c10ac36ff98d6810291bef4cb71cb2886f70be001c3ae785dc"
  },
  "kernelspec": {
   "display_name": "Python 3.10.0 ('xp')",
   "language": "python",
   "name": "python3"
  },
  "language_info": {
   "codemirror_mode": {
    "name": "ipython",
    "version": 3
   },
   "file_extension": ".py",
   "mimetype": "text/x-python",
   "name": "python",
   "nbconvert_exporter": "python",
   "pygments_lexer": "ipython3",
   "version": "3.10.0"
  },
  "orig_nbformat": 4
 },
 "nbformat": 4,
 "nbformat_minor": 2
}
