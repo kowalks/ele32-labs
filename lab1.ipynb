{
 "cells": [
  {
   "cell_type": "markdown",
   "metadata": {},
   "source": [
    "# Lab 1: Códigos de Bloco\n",
    "\n",
    "Alunos: Fernando Zanchitta e Guilherme Kowalczuk"
   ]
  },
  {
   "cell_type": "markdown",
   "metadata": {},
   "source": [
    "# 1. Simulação"
   ]
  },
  {
   "cell_type": "code",
   "execution_count": 24,
   "metadata": {},
   "outputs": [],
   "source": [
    "from channel import BSC\n",
    "from encoder import HammingEncoder, NaiveEncoder, AlternativeEncoder\n",
    "from lab1 import Simulator\n",
    "\n",
    "import random\n",
    "random.seed(2023)\n",
    "\n",
    "p = [5e-1, 2e-1, 1e-1, 5e-2, 2e-2, 1e-2, 5e-3, 2e-3, 1e-3, 5e-4, 2e-4, 1e-4, 5e-5, 2e-5, 1e-5]\n",
    "k = 4\n",
    "l = 1000000//k"
   ]
  },
  {
   "cell_type": "markdown",
   "metadata": {},
   "source": [
    "## 1.1. Naive Encoder"
   ]
  },
  {
   "cell_type": "code",
   "execution_count": 25,
   "metadata": {},
   "outputs": [
    {
     "name": "stdout",
     "output_type": "stream",
     "text": [
      "[(0.5, 0.500831), (0.2, 0.199307), (0.1, 0.100258), (0.05, 0.050281), (0.02, 0.020018), (0.01, 0.009992), (0.005, 0.004897), (0.002, 0.001971), (0.001, 0.001009), (0.0005, 0.000483), (0.0002, 0.000207), (0.0001, 0.000105), (5e-05, 4.1e-05), (2e-05, 2e-05), (1e-05, 1.2e-05)]\n"
     ]
    }
   ],
   "source": [
    "naive_encoder = NaiveEncoder()\n",
    "\n",
    "channels = map(BSC, p)\n",
    "sim = map(lambda channel: Simulator(naive_encoder, channel, k=k, l=l), channels)\n",
    "naive_sim = list(map(Simulator.simulate, sim))\n",
    "\n",
    "print(list(zip(p, naive_sim)))"
   ]
  },
  {
   "cell_type": "markdown",
   "metadata": {},
   "source": [
    "## 1.2. Hamming Encoder"
   ]
  },
  {
   "cell_type": "code",
   "execution_count": 26,
   "metadata": {},
   "outputs": [
    {
     "name": "stdout",
     "output_type": "stream",
     "text": [
      "[(0.5, 0.49955), (0.2, 0.195641), (0.1, 0.067006), (0.05, 0.019427), (0.02, 0.003378), (0.01, 0.000838), (0.005, 0.000191), (0.002, 3.5e-05), (0.001, 9e-06), (0.0005, 3e-06), (0.0002, 0.0), (0.0001, 0.0), (5e-05, 0.0), (2e-05, 0.0), (1e-05, 0.0)]\n"
     ]
    }
   ],
   "source": [
    "hamming_encoder = HammingEncoder()\n",
    "\n",
    "channels = map(BSC, p)\n",
    "sim = map(lambda channel: Simulator(hamming_encoder, channel, k=k, l=l), channels)\n",
    "hamming_sim = list(map(Simulator.simulate, sim))\n",
    "\n",
    "print(list(zip(p, hamming_sim)))"
   ]
  },
  {
   "cell_type": "markdown",
   "metadata": {},
   "source": [
    "## 1.2. Altenative Encoder"
   ]
  },
  {
   "cell_type": "code",
   "execution_count": 27,
   "metadata": {},
   "outputs": [
    {
     "name": "stdout",
     "output_type": "stream",
     "text": [
      "[(0.5, 0.4999698181818182), (0.2, 0.22800036363636364), (0.1, 0.10386981818181819), (0.05, 0.036944363636363636), (0.02, 0.007270545454545455), (0.01, 0.0019694545454545455), (0.005, 0.0005385454545454545), (0.002, 6.945454545454545e-05), (0.001, 2.909090909090909e-05), (0.0005, 7.272727272727272e-06), (0.0002, 0.0), (0.0001, 0.0), (5e-05, 0.0), (2e-05, 0.0), (1e-05, 0.0)]\n"
     ]
    }
   ],
   "source": [
    "k = 11\n",
    "alt_encoder = AlternativeEncoder()\n",
    "\n",
    "channels = map(BSC, p)\n",
    "sim = map(lambda channel: Simulator(alt_encoder, channel, k=k, l=l), channels)\n",
    "alt_sim = list(map(Simulator.simulate, sim))\n",
    "\n",
    "print(list(zip(p, alt_sim)))"
   ]
  },
  {
   "cell_type": "markdown",
   "metadata": {},
   "source": [
    "## 2. Comparação"
   ]
  },
  {
   "cell_type": "code",
   "execution_count": 37,
   "metadata": {},
   "outputs": [
    {
     "data": {
      "image/png": "[encoded data removed]",
      "text/plain": [
       "<Figure size 432x288 with 1 Axes>"
      ]
     },
     "metadata": {
      "needs_background": "light"
     },
     "output_type": "display_data"
    }
   ],
   "source": [
    "import matplotlib.pyplot as plt\n",
    "\n",
    "fig = plt.figure()\n",
    "ax = plt.gca()\n",
    "plt.plot(p, naive_sim, p, hamming_sim, p, alt_sim)\n",
    "ax.set_yscale('log')\n",
    "ax.set_xscale('log')\n",
    "ax.invert_xaxis()\n",
    "ax.legend(['Naive', 'Hamming', 'Alternative'])\n",
    "plt.xlabel('p')\n",
    "plt.ylabel('Pb')\n",
    "plt.minorticks_off()\n",
    "plt.show()\n",
    "# plt.savefig('grafico.png')"
   ]
  },
  {
   "cell_type": "code",
   "execution_count": 29,
   "metadata": {},
   "outputs": [],
   "source": [
    "import numpy as np\n",
    "G = np.array([[1,0,0,0,0,0,0,0,0,0,0,1,1,1,1],\n",
    "                [0,1,0,0,0,0,0,0,0,0,0,0,1,1,1],\n",
    "                [0,0,1,0,0,0,0,0,0,0,0,1,0,1,1],\n",
    "                [0,0,0,1,0,0,0,0,0,0,0,1,1,0,1],\n",
    "                [0,0,0,0,1,0,0,0,0,0,0,1,1,1,0],\n",
    "                [0,0,0,0,0,1,0,0,0,0,0,0,0,1,1],\n",
    "                [0,0,0,0,0,0,1,0,0,0,0,0,1,0,1],\n",
    "                [0,0,0,0,0,0,0,1,0,0,0,0,1,1,0],\n",
    "                [0,0,0,0,0,0,0,0,1,0,0,1,0,1,0],\n",
    "                [0,0,0,0,0,0,0,0,0,1,0,1,1,0,0],\n",
    "                [0,0,0,0,0,0,0,0,0,0,1,1,0,0,1]])"
   ]
  },
  {
   "cell_type": "code",
   "execution_count": 30,
   "metadata": {},
   "outputs": [
    {
     "name": "stdout",
     "output_type": "stream",
     "text": [
      "1 & 0 & 1 & 1 & 1 & 0 & 0 & 0 & 1 & 1 & 1 \\\\\n",
      "1 & 1 & 0 & 1 & 1 & 0 & 1 & 1 & 0 & 1 & 0 \\\\\n",
      "1 & 1 & 1 & 0 & 1 & 1 & 0 & 1 & 1 & 0 & 0 \\\\\n",
      "1 & 1 & 1 & 1 & 0 & 1 & 1 & 0 & 0 & 0 & 1 \\\\\n"
     ]
    }
   ],
   "source": [
    "for i in G[:,-4:].T:\n",
    "    print(\" & \".join([str(k) for k in i]) + \" \\\\\\\\\")"
   ]
  },
  {
   "cell_type": "code",
   "execution_count": null,
   "metadata": {},
   "outputs": [],
   "source": []
  }
 ],
 "metadata": {
  "interpreter": {
   "hash": "0eac290d8ee919c10ac36ff98d6810291bef4cb71cb2886f70be001c3ae785dc"
  },
  "kernelspec": {
   "display_name": "Python 3.10.0 ('xp')",
   "language": "python",
   "name": "python3"
  },
  "language_info": {
   "codemirror_mode": {
    "name": "ipython",
    "version": 3
   },
   "file_extension": ".py",
   "mimetype": "text/x-python",
   "name": "python",
   "nbconvert_exporter": "python",
   "pygments_lexer": "ipython3",
   "version": "3.10.0"
  },
  "orig_nbformat": 4
 },
 "nbformat": 4,
 "nbformat_minor": 2
}
