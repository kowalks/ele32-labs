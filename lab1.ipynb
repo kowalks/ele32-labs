{
 "cells": [
  {
   "cell_type": "markdown",
   "metadata": {},
   "source": [
    "# Lab 1: Códigos de Bloco\n",
    "\n",
    "Alunos: Fernando Zanchitta e Guilherme Kowalczuk"
   ]
  },
  {
   "cell_type": "markdown",
   "metadata": {},
   "source": [
    "# 1. Simulação"
   ]
  },
  {
   "cell_type": "code",
   "execution_count": 7,
   "metadata": {},
   "outputs": [],
   "source": [
    "from channel import BSC\n",
    "from encoder import HammingEncoder, NaiveEncoder, AlternativeEncoder\n",
    "from lab1 import Simulator\n",
    "\n",
    "p = [5e-1, 2e-1, 1e-1, 5e-2, 2e-2, 1e-2, 5e-3, 2e-3, 1e-3, 5e-4, 2e-4, 1e-4, 5e-5, 2e-5, 1e-5]\n",
    "k = 4\n",
    "l = 1000000//k"
   ]
  },
  {
   "cell_type": "markdown",
   "metadata": {},
   "source": [
    "## 1.1. Naive Encoder"
   ]
  },
  {
   "cell_type": "code",
   "execution_count": 8,
   "metadata": {},
   "outputs": [
    {
     "name": "stdout",
     "output_type": "stream",
     "text": [
      "[(0.5, 0.499481), (0.2, 0.200109), (0.1, 0.09959), (0.05, 0.050158), (0.02, 0.019819), (0.01, 0.009931), (0.005, 0.004943), (0.002, 0.001995), (0.001, 0.001013), (0.0005, 0.000508), (0.0002, 0.000214), (0.0001, 8.1e-05), (5e-05, 4.4e-05), (2e-05, 1.9e-05), (1e-05, 5e-06)]\n"
     ]
    }
   ],
   "source": [
    "naive_encoder = NaiveEncoder()\n",
    "\n",
    "channels = map(BSC, p)\n",
    "sim = map(lambda channel: Simulator(naive_encoder, channel, k=k, l=l), channels)\n",
    "naive_sim = list(map(Simulator.simulate, sim))\n",
    "\n",
    "print(list(zip(p, naive_sim)))"
   ]
  },
  {
   "cell_type": "markdown",
   "metadata": {},
   "source": [
    "## 1.2. Hamming Encoder"
   ]
  },
  {
   "cell_type": "code",
   "execution_count": 9,
   "metadata": {},
   "outputs": [
    {
     "name": "stdout",
     "output_type": "stream",
     "text": [
      "[(0.5, 0.500587), (0.2, 0.195642), (0.1, 0.066959), (0.05, 0.01931), (0.02, 0.003521), (0.01, 0.000835), (0.005, 0.000188), (0.002, 5.2e-05), (0.001, 1.1e-05), (0.0005, 4e-06), (0.0002, 2e-06), (0.0001, 0.0), (5e-05, 0.0), (2e-05, 0.0), (1e-05, 0.0)]\n"
     ]
    }
   ],
   "source": [
    "hamming_encoder = HammingEncoder()\n",
    "\n",
    "channels = map(BSC, p)\n",
    "sim = map(lambda channel: Simulator(hamming_encoder, channel, k=k, l=l), channels)\n",
    "hamming_sim = list(map(Simulator.simulate, sim))\n",
    "\n",
    "print(list(zip(p, hamming_sim)))"
   ]
  },
  {
   "cell_type": "markdown",
   "metadata": {},
   "source": [
    "## 1.2. Altenative Encoder"
   ]
  },
  {
   "cell_type": "code",
   "execution_count": 3,
   "metadata": {},
   "outputs": [
    {
     "name": "stdout",
     "output_type": "stream",
     "text": [
      "[(0.5, 0.5006003636363636), (0.2, 0.2276781818181818), (0.1, 0.10436872727272727), (0.05, 0.03649636363636364), (0.02, 0.007270909090909091), (0.01, 0.0019392727272727272), (0.005, 0.0005138181818181818), (0.002, 7.454545454545455e-05), (0.001, 2.3272727272727274e-05), (0.0005, 4e-06), (0.0002, 0.0), (0.0001, 0.0), (5e-05, 0.0), (2e-05, 0.0), (1e-05, 0.0)]\n"
     ]
    }
   ],
   "source": [
    "k = 11\n",
    "alt_encoder = AlternativeEncoder()\n",
    "\n",
    "channels = map(BSC, p)\n",
    "sim = map(lambda channel: Simulator(alt_encoder, channel, k=k, l=l), channels)\n",
    "alt_sim = list(map(Simulator.simulate, sim))\n",
    "\n",
    "print(list(zip(p, alt_sim)))"
   ]
  },
  {
   "cell_type": "markdown",
   "metadata": {},
   "source": [
    "## 2. Comparação"
   ]
  },
  {
   "cell_type": "code",
   "execution_count": 10,
   "metadata": {},
   "outputs": [
    {
     "data": {
      "image/png": "[encoded data removed]",
      "text/plain": [
       "<Figure size 432x288 with 1 Axes>"
      ]
     },
     "metadata": {
      "needs_background": "light"
     },
     "output_type": "display_data"
    }
   ],
   "source": [
    "import matplotlib.pyplot as plt\n",
    "\n",
    "fig = plt.figure()\n",
    "ax = plt.gca()\n",
    "plt.plot(p, naive_sim, p, hamming_sim, p, alt_sim)\n",
    "ax.set_yscale('log')\n",
    "ax.set_xscale('log')\n",
    "ax.invert_xaxis()\n",
    "plt.xlabel('p')\n",
    "plt.ylabel('Pb')\n",
    "plt.minorticks_off()\n",
    "plt.show()"
   ]
  },
  {
   "cell_type": "code",
   "execution_count": null,
   "metadata": {},
   "outputs": [],
   "source": []
  }
 ],
 "metadata": {
  "interpreter": {
   "hash": "0eac290d8ee919c10ac36ff98d6810291bef4cb71cb2886f70be001c3ae785dc"
  },
  "kernelspec": {
   "display_name": "Python 3.10.0 ('xp')",
   "language": "python",
   "name": "python3"
  },
  "language_info": {
   "codemirror_mode": {
    "name": "ipython",
    "version": 3
   },
   "file_extension": ".py",
   "mimetype": "text/x-python",
   "name": "python",
   "nbconvert_exporter": "python",
   "pygments_lexer": "ipython3",
   "version": "3.10.0"
  },
  "orig_nbformat": 4
 },
 "nbformat": 4,
 "nbformat_minor": 2
}
