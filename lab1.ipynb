{
 "cells": [
  {
   "cell_type": "markdown",
   "metadata": {},
   "source": [
    "# Lab 1: Códigos de Bloco\n",
    "\n",
    "Alunos: Fernando Zanchitta e Guilherme Kowalczuk"
   ]
  },
  {
   "cell_type": "markdown",
   "metadata": {},
   "source": [
    "# 1. Simulação"
   ]
  },
  {
   "cell_type": "code",
   "execution_count": 1,
   "metadata": {},
   "outputs": [],
   "source": [
    "from channel import BSC\n",
    "from encoder import HammingEncoder, NaiveEncoder\n",
    "from lab1 import Simulator\n",
    "\n",
    "p = [5e-1, 2e-1, 1e-1, 5e-2, 2e-2, 1e-2, 5e-3, 2e-3, 1e-3, 5e-4, 2e-4, 1e-4, 5e-5, 2e-5, 1e-5]\n",
    "k = 4\n",
    "l = 1000000//k"
   ]
  },
  {
   "cell_type": "markdown",
   "metadata": {},
   "source": [
    "## 1.1. Naive Encoder"
   ]
  },
  {
   "cell_type": "code",
   "execution_count": 2,
   "metadata": {},
   "outputs": [
    {
     "name": "stdout",
     "output_type": "stream",
     "text": [
      "[(0.5, 0.499998), (0.2, 0.199352), (0.1, 0.100477), (0.05, 0.049736), (0.02, 0.019853), (0.01, 0.009831), (0.005, 0.004997), (0.002, 0.001935), (0.001, 0.001045), (0.0005, 0.000538), (0.0002, 0.000196), (0.0001, 0.000102), (5e-05, 4.9e-05), (2e-05, 2.1e-05), (1e-05, 1.2e-05)]\n"
     ]
    }
   ],
   "source": [
    "naive_encoder = NaiveEncoder()\n",
    "\n",
    "channels = map(BSC, p)\n",
    "sim = map(lambda channel: Simulator(naive_encoder, channel, k=k, l=l), channels)\n",
    "naive_sim = list(map(Simulator.simulate, sim))\n",
    "\n",
    "print(list(zip(p, naive_sim)))"
   ]
  },
  {
   "cell_type": "markdown",
   "metadata": {},
   "source": [
    "## 1.2. Hamming Encoder"
   ]
  },
  {
   "cell_type": "code",
   "execution_count": 4,
   "metadata": {},
   "outputs": [
    {
     "name": "stdout",
     "output_type": "stream",
     "text": [
      "[(0.5, 0.50109), (0.2, 0.195069), (0.1, 0.066786), (0.05, 0.019224), (0.02, 0.003453), (0.01, 0.000893), (0.005, 0.000219), (0.002, 4.4e-05), (0.001, 5e-06), (0.0005, 0.0), (0.0002, 0.0), (0.0001, 0.0), (5e-05, 0.0), (2e-05, 0.0), (1e-05, 0.0)]\n"
     ]
    }
   ],
   "source": [
    "hamming_encoder = HammingEncoder()\n",
    "\n",
    "channels = map(BSC, p)\n",
    "sim = map(lambda channel: Simulator(hamming_encoder, channel, k=k, l=l), channels)\n",
    "hamming_sim = list(map(Simulator.simulate, sim))\n",
    "\n",
    "print(list(zip(p, hamming_sim)))"
   ]
  },
  {
   "cell_type": "markdown",
   "metadata": {},
   "source": [
    "## 2. Comparação"
   ]
  },
  {
   "cell_type": "code",
   "execution_count": 35,
   "metadata": {},
   "outputs": [
    {
     "data": {
      "image/png": "[encoded data removed]",
      "text/plain": [
       "<Figure size 432x288 with 1 Axes>"
      ]
     },
     "metadata": {
      "needs_background": "light"
     },
     "output_type": "display_data"
    }
   ],
   "source": [
    "import matplotlib.pyplot as plt\n",
    "from matplotlib.pyplot import LogFormatterMathtext\n",
    "\n",
    "# class CustomTicker(plt.LogFormatterSciNotation):\n",
    "#     def __call__(self, x, pos=None):\n",
    "#         if x not in [0.1,1,10]:\n",
    "#             return plt.LogFormatterSciNotation.__call__(self,x, pos=None)\n",
    "#         else:\n",
    "#             return \"{x:g}\".format(x=x)\n",
    "\n",
    "fig = plt.figure()\n",
    "ax = plt.gca()\n",
    "plt.plot(p, naive_sim, p, hamming_sim)\n",
    "ax.set_yscale('log')\n",
    "ax.set_xscale('log')\n",
    "ax.invert_xaxis()\n",
    "plt.xlabel('p')\n",
    "plt.ylabel('Pb')\n",
    "plt.minorticks_off()\n",
    "plt.show()"
   ]
  }
 ],
 "metadata": {
  "interpreter": {
   "hash": "0eac290d8ee919c10ac36ff98d6810291bef4cb71cb2886f70be001c3ae785dc"
  },
  "kernelspec": {
   "display_name": "Python 3.10.0 ('xp')",
   "language": "python",
   "name": "python3"
  },
  "language_info": {
   "codemirror_mode": {
    "name": "ipython",
    "version": 3
   },
   "file_extension": ".py",
   "mimetype": "text/x-python",
   "name": "python",
   "nbconvert_exporter": "python",
   "pygments_lexer": "ipython3",
   "version": "3.10.0"
  },
  "orig_nbformat": 4
 },
 "nbformat": 4,
 "nbformat_minor": 2
}
