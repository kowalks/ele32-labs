{
 "cells": [
  {
   "cell_type": "markdown",
   "metadata": {},
   "source": [
    "# Lab 2: Códigos Cíclicos\n",
    "\n",
    "Alunos: Fernando Zanchitta e Guilherme Kowalczuk"
   ]
  },
  {
   "cell_type": "markdown",
   "metadata": {},
   "source": [
    "# 1. Simulação"
   ]
  },
  {
   "cell_type": "code",
   "execution_count": 16,
   "metadata": {},
   "outputs": [],
   "source": [
    "from channel import BSC\n",
    "from encoder import NaiveEncoder, ConvolutionalEncoder\n",
    "from lab1 import Simulator\n",
    "from helpers import safe_load\n",
    "\n",
    "import numpy as np\n",
    "import random\n",
    "random.seed(2023)\n",
    "\n",
    "p = [5e-1, 2e-1, 1e-1, 5e-2, 2e-2, 1e-2, 5e-3, 2e-3, 1e-3, 5e-4, 2e-4, 1e-4, 5e-5, 2e-5, 1e-5]"
   ]
  },
  {
   "cell_type": "markdown",
   "metadata": {},
   "source": [
    "## 1.1. Naive Encoder"
   ]
  },
  {
   "cell_type": "code",
   "execution_count": 6,
   "metadata": {},
   "outputs": [
    {
     "name": "stdout",
     "output_type": "stream",
     "text": [
      "[(0.5, 0.500831), (0.2, 0.199307), (0.1, 0.100258), (0.05, 0.050281), (0.02, 0.020018), (0.01, 0.009992), (0.005, 0.004897), (0.002, 0.001971), (0.001, 0.001009), (0.0005, 0.000483), (0.0002, 0.000207), (0.0001, 0.000105), (5e-05, 4.1e-05), (2e-05, 2e-05), (1e-05, 1.2e-05)]\n"
     ]
    }
   ],
   "source": [
    "k = 4\n",
    "l = 1000000//k\n",
    "naive_encoder = NaiveEncoder()\n",
    "\n",
    "channels = map(BSC, p)\n",
    "sim = map(lambda channel: Simulator(naive_encoder, channel, k=k, l=l), channels)\n",
    "simulated = zip(p, map(Simulator.simulate, sim))\n",
    "naive_sim = safe_load('lab3_values/naive.pickle', lambda: list(simulated))\n",
    "\n",
    "print(naive_sim)"
   ]
  },
  {
   "cell_type": "markdown",
   "metadata": {},
   "source": [
    "## 1.2. Convolutional Encoder"
   ]
  },
  {
   "cell_type": "code",
   "execution_count": 70,
   "metadata": {},
   "outputs": [
    {
     "name": "stdout",
     "output_type": "stream",
     "text": [
      "words len: 16000\n",
      "encoded len: 48000\n",
      "transmitted len: 48000\n"
     ]
    },
    {
     "name": "stderr",
     "output_type": "stream",
     "text": [
      "100%|██████████| 16000/16000 [00:02<00:00, 5659.67it/s]\n"
     ]
    },
    {
     "name": "stdout",
     "output_type": "stream",
     "text": [
      "decoded len: 16000\n",
      "words len: 26689\n",
      "encoded len: 80067\n",
      "transmitted len: 80067\n"
     ]
    },
    {
     "name": "stderr",
     "output_type": "stream",
     "text": [
      "100%|██████████| 26689/26689 [00:04<00:00, 5875.12it/s]\n"
     ]
    },
    {
     "name": "stdout",
     "output_type": "stream",
     "text": [
      "decoded len: 26689\n",
      "words len: 44520\n",
      "encoded len: 133560\n",
      "transmitted len: 133560\n"
     ]
    },
    {
     "name": "stderr",
     "output_type": "stream",
     "text": [
      "100%|██████████| 44520/44520 [00:07<00:00, 5831.86it/s]\n"
     ]
    },
    {
     "name": "stdout",
     "output_type": "stream",
     "text": [
      "decoded len: 44520\n",
      "words len: 74265\n",
      "encoded len: 222795\n",
      "transmitted len: 222795\n"
     ]
    },
    {
     "name": "stderr",
     "output_type": "stream",
     "text": [
      "100%|██████████| 74265/74265 [00:12<00:00, 5836.33it/s]\n"
     ]
    },
    {
     "name": "stdout",
     "output_type": "stream",
     "text": [
      "decoded len: 74265\n",
      "words len: 123882\n",
      "encoded len: 371646\n",
      "transmitted len: 371646\n"
     ]
    },
    {
     "name": "stderr",
     "output_type": "stream",
     "text": [
      "100%|██████████| 123882/123882 [00:21<00:00, 5819.54it/s]\n"
     ]
    },
    {
     "name": "stdout",
     "output_type": "stream",
     "text": [
      "decoded len: 123882\n",
      "words len: 206647\n",
      "encoded len: 619941\n",
      "transmitted len: 619941\n"
     ]
    },
    {
     "name": "stderr",
     "output_type": "stream",
     "text": [
      "100%|██████████| 206647/206647 [00:35<00:00, 5744.88it/s]\n"
     ]
    },
    {
     "name": "stdout",
     "output_type": "stream",
     "text": [
      "decoded len: 206647\n",
      "words len: 344709\n",
      "encoded len: 1034127\n",
      "transmitted len: 1034127\n"
     ]
    },
    {
     "name": "stderr",
     "output_type": "stream",
     "text": [
      "100%|██████████| 344709/344709 [00:59<00:00, 5812.30it/s]\n"
     ]
    },
    {
     "name": "stdout",
     "output_type": "stream",
     "text": [
      "decoded len: 344709\n",
      "words len: 575010\n",
      "encoded len: 1725030\n",
      "transmitted len: 1725030\n"
     ]
    },
    {
     "name": "stderr",
     "output_type": "stream",
     "text": [
      "100%|██████████| 575010/575010 [01:38<00:00, 5830.12it/s]\n"
     ]
    },
    {
     "name": "stdout",
     "output_type": "stream",
     "text": [
      "decoded len: 575010\n",
      "words len: 959174\n",
      "encoded len: 2877522\n",
      "transmitted len: 2877522\n"
     ]
    },
    {
     "name": "stderr",
     "output_type": "stream",
     "text": [
      " 48%|████▊     | 460348/959174 [02:33<01:26, 5737.11it/s] "
     ]
    }
   ],
   "source": [
    "p = np.logspace(np.log10(0.5), np.log10(0.005), 10)\n",
    "\n",
    "def simulate_convolutional(m,G,k=None):\n",
    "    n = 3\n",
    "    conv_encoder = ConvolutionalEncoder(n, m, G)\n",
    "\n",
    "    conv_sim = []\n",
    "    for prob in p:\n",
    "        if k is None:\n",
    "            sim_k = min(int(8000/prob), 1_000_000)\n",
    "        else:\n",
    "            sim_k = k\n",
    "        channel = BSC(prob)\n",
    "        sim = Simulator(conv_encoder, channel, k=sim_k, l=1)\n",
    "        simulated = sim.simulate()\n",
    "        conv_sim.append(simulated)\n",
    "\n",
    "    return list(zip(p, conv_sim))\n",
    "\n",
    "mG = [\n",
    "    (3, np.array([[1,0,1,1], [1,1,0,1], [1,1,1,1]])),\n",
    "    (4, np.array([[1,0,1,0,1], [1,1,0,1,1], [1,1,1,1,1]])), \n",
    "    (6, np.array([[1,0,0,1,1,1,1], [1,0,1,0,1,1,1], [1,1,0,1,1,0,1]])),\n",
    "]\n",
    "\n",
    "conv_sim = []\n",
    "for m,G in mG:\n",
    "    sim = safe_load(f'lab3_values/conv{m}_logspace2.pickle', lambda: simulate_convolutional(m,G))\n",
    "    conv_sim.append(sim)\n",
    "    print(f'm={m}')\n",
    "    print(sim)"
   ]
  },
  {
   "cell_type": "code",
   "execution_count": 28,
   "metadata": {},
   "outputs": [],
   "source": [
    "from scipy import special as sp\n",
    "from math import sqrt\n",
    "\n",
    "\n",
    "def qfunc(x):\n",
    "    return 0.5-0.5*sp.erf(x/sqrt(2))\n",
    "\n",
    "def invqfunc(x):\n",
    "    return sqrt(2)*sp.erfinv(1-2*x)\n",
    "\n",
    "def translate(p, R, db=True):\n",
    "    eb_n0 = map(lambda x: (invqfunc(x)**2)/(2*R), p)\n",
    "    # if db:\n",
    "    #     eb_n0 = map(lambda x: 10*np.log10(x), eb_n0)\n",
    "    return list(eb_n0)\n"
   ]
  },
  {
   "cell_type": "code",
   "execution_count": 35,
   "metadata": {},
   "outputs": [
    {
     "name": "stdout",
     "output_type": "stream",
     "text": [
      "[-15.099863627029857, -9.511975842706372, -6.377402797098956, -4.229458457521621, -2.612203555096631, -1.3245286762788342, -0.2603063982666214, 0.6431003661195772, 1.425632252114458, 2.1142492603095064, 2.7279642608421457, 3.2806607699559813, 3.7827687429616867, 4.242310930886444, 4.665582949827932, 5.057610406815361, 5.422465099795102, 5.7634892106705395, 6.083457726420796]\n",
      "[0.4429333952050413, 0.39237998517573064, 0.3475963980887803, 0.30792410553301314, 0.27277973905842595, 0.2416465119285877, 0.2140666199359697, 0.18963450953661246, 0.1679909143141891, 0.14881757208156593, 0.1318325449365179, 0.1167860734545061, 0.1034569040557395, 0.09164903554162182, 0.08118883695943607, 0.07192249441438314, 0.06371374928515669, 0.056441894584234466, 0.049999999999999996]\n"
     ]
    },
    {
     "data": {
      "image/png": "[encoded data removed]",
      "text/plain": [
       "<Figure size 432x288 with 1 Axes>"
      ]
     },
     "metadata": {
      "needs_background": "light"
     },
     "output_type": "display_data"
    }
   ],
   "source": [
    "import matplotlib.pyplot as plt\n",
    "\n",
    "p = [5e-1, 2e-1, 1e-1, 5e-2, 2e-2, 1e-2, 5e-3, 2e-3, 1e-3, 5e-4, 2e-4, 1e-4, 5e-5, 2e-5, 1e-5]\n",
    "\n",
    "fig = plt.figure()\n",
    "ax = plt.gca()\n",
    "plt.plot(translate([k for k,_ in naive_sim[1:]], 1), [v for _,v in naive_sim[1:]])\n",
    "plt.plot(translate([k for k,_ in conv_sim[0][1:]], 1/3), [v for _,v in conv_sim[0][1:]])\n",
    "plt.plot(translate([k for k,_ in conv_sim[1][1:]], 1/3), [v for _,v in conv_sim[1][1:]])\n",
    "plt.plot(translate([k for k,_ in conv_sim[2][1:]], 1/3), [v for _,v in conv_sim[2][1:]])\n",
    "\n",
    "print(translate([k for k,_ in conv_sim[0][1:]], 1/3))\n",
    "print([k for k,_ in conv_sim[0][1:]])\n",
    "ax.set_yscale('log')\n",
    "# ax.set_xscale('log')\n",
    "# ax.invert_xaxis()"
   ]
  },
  {
   "cell_type": "code",
   "execution_count": null,
   "metadata": {},
   "outputs": [],
   "source": []
  },
  {
   "cell_type": "code",
   "execution_count": 26,
   "metadata": {},
   "outputs": [
    {
     "data": {
      "text/plain": [
       "0.001004"
      ]
     },
     "execution_count": 26,
     "metadata": {},
     "output_type": "execute_result"
    }
   ],
   "source": [
    "k = int(1e6)\n",
    "channel = BSC(1e-3)\n",
    "word = np.zeros((k,), int)\n",
    "received = channel.transmit(word)\n",
    "errors = received.sum()\n",
    "errors/k"
   ]
  },
  {
   "cell_type": "code",
   "execution_count": 21,
   "metadata": {},
   "outputs": [
    {
     "data": {
      "text/plain": [
       "1000000"
      ]
     },
     "execution_count": 21,
     "metadata": {},
     "output_type": "execute_result"
    }
   ],
   "source": [
    "k"
   ]
  },
  {
   "cell_type": "code",
   "execution_count": null,
   "metadata": {},
   "outputs": [],
   "source": []
  }
 ],
 "metadata": {
  "interpreter": {
   "hash": "0eac290d8ee919c10ac36ff98d6810291bef4cb71cb2886f70be001c3ae785dc"
  },
  "kernelspec": {
   "display_name": "Python 3.10.0 ('xp')",
   "language": "python",
   "name": "python3"
  },
  "language_info": {
   "codemirror_mode": {
    "name": "ipython",
    "version": 3
   },
   "file_extension": ".py",
   "mimetype": "text/x-python",
   "name": "python",
   "nbconvert_exporter": "python",
   "pygments_lexer": "ipython3",
   "version": "3.10.0"
  },
  "orig_nbformat": 4
 },
 "nbformat": 4,
 "nbformat_minor": 2
}
