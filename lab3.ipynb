{
 "cells": [
  {
   "cell_type": "markdown",
   "metadata": {},
   "source": [
    "# Lab 2: Códigos Cíclicos\n",
    "\n",
    "Alunos: Fernando Zanchitta e Guilherme Kowalczuk"
   ]
  },
  {
   "cell_type": "markdown",
   "metadata": {},
   "source": [
    "# 1. Simulação"
   ]
  },
  {
   "cell_type": "code",
   "execution_count": 1,
   "metadata": {},
   "outputs": [],
   "source": [
    "from channel import BSC\n",
    "from encoder import NaiveEncoder, ConvolutionalEncoder\n",
    "from lab1 import Simulator\n",
    "from helpers import safe_load\n",
    "\n",
    "import numpy as np\n",
    "import random\n",
    "random.seed(2023)\n",
    "\n",
    "p = [5e-1, 2e-1, 1e-1, 5e-2, 2e-2, 1e-2, 5e-3, 2e-3, 1e-3, 5e-4, 2e-4, 1e-4, 5e-5, 2e-5, 1e-5]"
   ]
  },
  {
   "cell_type": "markdown",
   "metadata": {},
   "source": [
    "## 1.1. Naive Encoder"
   ]
  },
  {
   "cell_type": "code",
   "execution_count": 4,
   "metadata": {},
   "outputs": [
    {
     "name": "stdout",
     "output_type": "stream",
     "text": [
      "[(0.5, 0.499331), (0.2, 0.199325), (0.1, 0.100095), (0.05, 0.050212), (0.02, 0.019917), (0.01, 0.00979), (0.005, 0.005006), (0.002, 0.001973), (0.001, 0.001033), (0.0005, 0.000521), (0.0002, 0.000197), (0.0001, 9.7e-05), (5e-05, 4.7e-05), (2e-05, 1.9e-05), (1e-05, 8e-06)]\n"
     ]
    }
   ],
   "source": [
    "k = 4\n",
    "l = 1000000//k\n",
    "naive_encoder = NaiveEncoder()\n",
    "\n",
    "channels = map(BSC, p)\n",
    "sim = map(lambda channel: Simulator(naive_encoder, channel, k=k, l=l), channels)\n",
    "naive_sim = list(map(Simulator.simulate, sim))\n",
    "\n",
    "naive_sim = safe_load(f'lab3_values/naive.pickle', lambda: naive_sim)\n",
    "\n",
    "print(list(zip(p, naive_sim)))"
   ]
  },
  {
   "cell_type": "markdown",
   "metadata": {},
   "source": [
    "## 1.2. Convolutional Encoder"
   ]
  },
  {
   "cell_type": "code",
   "execution_count": 5,
   "metadata": {},
   "outputs": [],
   "source": [
    "def simulate_convolutional(m,G):\n",
    "    n = 3\n",
    "    conv_encoder = ConvolutionalEncoder(n, m, G)\n",
    "\n",
    "    k = 100000\n",
    "    l = 1\n",
    "\n",
    "    channels = map(BSC, p)\n",
    "    sim = map(lambda channel: Simulator(conv_encoder, channel, k=k, l=l), channels)\n",
    "    conv_sim = list(map(Simulator.simulate, sim))\n",
    "\n",
    "    return conv_sim\n",
    "\n",
    "mG = [\n",
    "    (3, np.array([[1, 0, 1, 1], [1, 1, 0, 1], [1, 1, 1, 1]])),\n",
    "    (4, np.array([[1,0,1,0,1], [1,1,0,1,1], [1,1,1,1,1]])), \n",
    "    (6, np.array([[1,0,0,1,1,1,1], [1,0,1,0,1,1,1], [1,1,0,1,1,0,1]])),\n",
    "]\n",
    "\n",
    "conv_sim = []\n",
    "for m,G in mG:\n",
    "    conv_sim = safe_load(f'lab3_values/{m}.pickle', lambda: simulate_convolutional(m,G))\n",
    "    conv_sim.append(conv_sim)\n",
    "    print(list(zip(p, conv_sim)))"
   ]
  },
  {
   "cell_type": "code",
   "execution_count": null,
   "metadata": {},
   "outputs": [
    {
     "data": {
      "image/png": "[encoded data removed]",
      "text/plain": [
       "<Figure size 432x288 with 1 Axes>"
      ]
     },
     "metadata": {
      "needs_background": "light"
     },
     "output_type": "display_data"
    }
   ],
   "source": [
    "import matplotlib.pyplot as plt\n",
    "\n",
    "fig = plt.figure()\n",
    "ax = plt.gca()\n",
    "plt.plot(p, naive_sim, p, conv_sim)\n",
    "ax.set_yscale('log')\n",
    "ax.set_xscale('log')\n",
    "ax.invert_xaxis()"
   ]
  }
 ],
 "metadata": {
  "interpreter": {
   "hash": "0eac290d8ee919c10ac36ff98d6810291bef4cb71cb2886f70be001c3ae785dc"
  },
  "kernelspec": {
   "display_name": "Python 3.10.0 ('xp')",
   "language": "python",
   "name": "python3"
  },
  "language_info": {
   "codemirror_mode": {
    "name": "ipython",
    "version": 3
   },
   "file_extension": ".py",
   "mimetype": "text/x-python",
   "name": "python",
   "nbconvert_exporter": "python",
   "pygments_lexer": "ipython3",
   "version": "3.10.0"
  },
  "orig_nbformat": 4
 },
 "nbformat": 4,
 "nbformat_minor": 2
}
