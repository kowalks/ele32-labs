{
 "cells": [
  {
   "cell_type": "markdown",
   "metadata": {},
   "source": [
    "# Lab 2: Códigos Cíclicos\n",
    "\n",
    "Alunos: Fernando Zanchitta e Guilherme Kowalczuk"
   ]
  },
  {
   "cell_type": "markdown",
   "metadata": {},
   "source": [
    "# 1. Simulação"
   ]
  },
  {
   "cell_type": "code",
   "execution_count": 2,
   "metadata": {},
   "outputs": [],
   "source": [
    "from channel import BSC\n",
    "from encoder import NaiveEncoder, ConvolutionalEncoder\n",
    "from lab1 import Simulator\n",
    "from helpers import safe_load\n",
    "\n",
    "import numpy as np\n",
    "import random\n",
    "random.seed(2023)\n",
    "\n",
    "p = [5e-1, 2e-1, 1e-1, 5e-2, 2e-2, 1e-2, 5e-3, 2e-3, 1e-3, 5e-4, 2e-4, 1e-4, 5e-5, 2e-5, 1e-5]"
   ]
  },
  {
   "cell_type": "markdown",
   "metadata": {},
   "source": [
    "## 1.1. Naive Encoder"
   ]
  },
  {
   "cell_type": "code",
   "execution_count": 3,
   "metadata": {},
   "outputs": [
    {
     "name": "stdout",
     "output_type": "stream",
     "text": [
      "[(0.5, 0.500831), (0.2, 0.199307), (0.1, 0.100258), (0.05, 0.050281), (0.02, 0.020018), (0.01, 0.009992), (0.005, 0.004897), (0.002, 0.001971), (0.001, 0.001009), (0.0005, 0.000483), (0.0002, 0.000207), (0.0001, 0.000105), (5e-05, 4.1e-05), (2e-05, 2e-05), (1e-05, 1.2e-05)]\n"
     ]
    }
   ],
   "source": [
    "k = 4\n",
    "l = 1000000//k\n",
    "naive_encoder = NaiveEncoder()\n",
    "\n",
    "channels = map(BSC, p)\n",
    "sim = map(lambda channel: Simulator(naive_encoder, channel, k=k, l=l), channels)\n",
    "simulated = zip(p, map(Simulator.simulate, sim))\n",
    "naive_sim = safe_load('lab3_values/naive.pickle', lambda: list(simulated))\n",
    "\n",
    "print(naive_sim)"
   ]
  },
  {
   "cell_type": "markdown",
   "metadata": {},
   "source": [
    "## 1.2. Convolutional Encoder"
   ]
  },
  {
   "cell_type": "code",
   "execution_count": 33,
   "metadata": {},
   "outputs": [
    {
     "name": "stderr",
     "output_type": "stream",
     "text": [
      "100%|██████████| 72000/72000 [00:12<00:00, 5733.55it/s]\n",
      "100%|██████████| 78433/78433 [00:13<00:00, 5877.87it/s]\n",
      "100%|██████████| 85384/85384 [00:14<00:00, 5838.58it/s]\n",
      "100%|██████████| 92895/92895 [00:15<00:00, 5838.16it/s]\n",
      "100%|██████████| 101009/101009 [00:17<00:00, 5780.97it/s]\n",
      "100%|██████████| 109775/109775 [00:18<00:00, 5817.95it/s]\n",
      "100%|██████████| 119247/119247 [00:20<00:00, 5874.06it/s]\n",
      "100%|██████████| 129481/129481 [00:22<00:00, 5855.68it/s]\n",
      "100%|██████████| 140537/140537 [00:23<00:00, 5927.51it/s]\n",
      "100%|██████████| 152483/152483 [00:25<00:00, 5889.76it/s]\n",
      "100%|██████████| 165389/165389 [00:27<00:00, 5919.80it/s]\n",
      "100%|██████████| 179333/179333 [00:30<00:00, 5935.72it/s]\n",
      "100%|██████████| 194399/194399 [00:32<00:00, 5924.82it/s]\n",
      "100%|██████████| 210676/210676 [00:35<00:00, 5936.13it/s]\n",
      "100%|██████████| 228263/228263 [00:38<00:00, 5946.63it/s]\n",
      "100%|██████████| 247263/247263 [00:41<00:00, 5929.79it/s]\n",
      "100%|██████████| 267792/267792 [00:45<00:00, 5923.60it/s]\n",
      "100%|██████████| 289972/289972 [00:49<00:00, 5890.14it/s]\n",
      "100%|██████████| 313935/313935 [00:53<00:00, 5901.17it/s]\n",
      "100%|██████████| 339826/339826 [00:57<00:00, 5892.22it/s]\n"
     ]
    },
    {
     "name": "stdout",
     "output_type": "stream",
     "text": [
      "m=3\n",
      "[(0.1, 0.008972222222222222), (0.0925564583757491, 0.006311119044279831), (0.08566697987061772, 0.003665792185889628), (0.07929032256570966, 0.002874212820926853), (0.07338831440152822, 0.0020295221217911277), (0.06792562467171435, 0.001730813026645411), (0.06286955252574286, 0.0008721393410316402), (0.05818983121450888, 0.00041704960573365975), (0.053858446906975575, 0.0002846225549143642), (0.04984947099327976, 0.0002819986490297279), (0.0461389048704261, 0.00017534418854941986), (0.04270453628142239, 0.0001282530264926143), (0.03952580634787139, 8.230495012834428e-05), (0.03658368650004678, 1.898650059807477e-05), (0.033860564567730324, 1.7523645969780472e-05), (0.03134013934992497, 2.4265660450613316e-05), (0.02900732303231507, 1.1202724502599032e-05), (0.026848150868323765, 1.0345826493592485e-05), (0.024849697583098396, 0.0), (0.023, 2.942682431597347e-06)]\n"
     ]
    },
    {
     "name": "stderr",
     "output_type": "stream",
     "text": [
      "100%|██████████| 72000/72000 [00:24<00:00, 2916.63it/s]\n",
      "100%|██████████| 78433/78433 [00:26<00:00, 2910.78it/s]\n",
      "100%|██████████| 85384/85384 [00:29<00:00, 2912.06it/s]\n",
      "100%|██████████| 92895/92895 [00:31<00:00, 2911.95it/s]\n",
      "100%|██████████| 101009/101009 [00:34<00:00, 2888.17it/s]\n",
      "100%|██████████| 109775/109775 [00:37<00:00, 2911.64it/s]\n",
      "100%|██████████| 119247/119247 [00:40<00:00, 2910.55it/s]\n",
      "100%|██████████| 129481/129481 [00:44<00:00, 2888.99it/s]\n",
      "100%|██████████| 140537/140537 [00:48<00:00, 2910.87it/s]\n",
      "100%|██████████| 152483/152483 [00:52<00:00, 2899.67it/s]\n",
      "100%|██████████| 165389/165389 [00:56<00:00, 2907.94it/s]\n",
      "100%|██████████| 179333/179333 [01:01<00:00, 2902.11it/s]\n",
      "100%|██████████| 194399/194399 [01:06<00:00, 2902.85it/s]\n",
      "100%|██████████| 210676/210676 [01:12<00:00, 2900.77it/s]\n",
      "100%|██████████| 228263/228263 [04:32<00:00, 836.49it/s] \n",
      "100%|██████████| 247263/247263 [01:26<00:00, 2854.32it/s]\n",
      "100%|██████████| 267792/267792 [01:33<00:00, 2857.44it/s]\n",
      "100%|██████████| 289972/289972 [01:40<00:00, 2896.91it/s]\n",
      "100%|██████████| 313935/313935 [01:48<00:00, 2905.34it/s]\n",
      "100%|██████████| 339826/339826 [01:56<00:00, 2910.81it/s]\n"
     ]
    },
    {
     "name": "stdout",
     "output_type": "stream",
     "text": [
      "m=4\n",
      "[(0.1, 0.005541666666666667), (0.0925564583757491, 0.0037101730139099615), (0.08566697987061772, 0.0022486648552422), (0.07929032256570966, 0.0011518380967759298), (0.07338831440152822, 0.0010791117623182092), (0.06792562467171435, 0.0004919152812571169), (0.06286955252574286, 0.0003186662976846378), (0.05818983121450888, 0.00023941736625450837), (0.053858446906975575, 0.00012096458583860478), (0.04984947099327976, 0.0002033013516260829), (0.0461389048704261, 4.232445930503238e-05), (0.04270453628142239, 2.2304874172628573e-05), (0.03952580634787139, 0.0), (0.03658368650004678, 0.0), (0.033860564567730324, 2.190455746222559e-05), (0.03134013934992497, 1.6177106967075542e-05), (0.02900732303231507, 0.0), (0.026848150868323765, 3.448608831197495e-06), (0.024849697583098396, 0.0), (0.023, 0.0)]\n"
     ]
    },
    {
     "name": "stderr",
     "output_type": "stream",
     "text": [
      "100%|██████████| 72000/72000 [01:43<00:00, 694.83it/s]\n",
      "100%|██████████| 78433/78433 [01:52<00:00, 698.94it/s]\n",
      "100%|██████████| 85384/85384 [02:05<00:00, 680.66it/s]\n",
      "100%|██████████| 92895/92895 [02:13<00:00, 694.62it/s]\n",
      "100%|██████████| 101009/101009 [02:29<00:00, 677.76it/s]\n",
      "100%|██████████| 109775/109775 [02:46<00:00, 658.51it/s]\n",
      "100%|██████████| 119247/119247 [02:58<00:00, 667.88it/s]\n",
      "100%|██████████| 129481/129481 [03:09<00:00, 684.35it/s]\n",
      "100%|██████████| 140537/140537 [03:31<00:00, 665.78it/s]\n",
      "100%|██████████| 152483/152483 [03:48<00:00, 668.33it/s]\n",
      "100%|██████████| 165389/165389 [04:04<00:00, 675.06it/s]\n",
      "100%|██████████| 179333/179333 [04:26<00:00, 671.95it/s]\n",
      "100%|██████████| 194399/194399 [04:44<00:00, 683.16it/s]\n",
      "100%|██████████| 210676/210676 [05:12<00:00, 675.16it/s]\n",
      "100%|██████████| 228263/228263 [05:29<00:00, 692.70it/s] \n",
      "100%|██████████| 247263/247263 [05:55<00:00, 695.88it/s]\n",
      "100%|██████████| 267792/267792 [06:25<00:00, 695.12it/s]\n",
      "100%|██████████| 289972/289972 [06:57<00:00, 694.52it/s]\n",
      "100%|██████████| 313935/313935 [07:32<00:00, 693.36it/s]\n",
      "100%|██████████| 339826/339826 [14:24<00:00, 393.29it/s]  \n"
     ]
    },
    {
     "name": "stdout",
     "output_type": "stream",
     "text": [
      "m=6\n",
      "[(0.1, 0.0016527777777777778), (0.0925564583757491, 0.0004844899468336032), (0.08566697987061772, 0.00093694368968425), (0.07929032256570966, 0.0005705366273749933), (0.07338831440152822, 5.940064746705739e-05), (0.06792562467171435, 0.0001002049647005238), (0.06286955252574286, 1.677191040445462e-05), (0.05818983121450888, 3.861570423459813e-05), (0.053858446906975575, 2.1346691618577315e-05), (0.04984947099327976, 0.0), (0.0461389048704261, 1.8139053987871018e-05), (0.04270453628142239, 0.0), (0.03952580634787139, 0.0), (0.03658368650004678, 0.0), (0.033860564567730324, 0.0), (0.03134013934992497, 0.0), (0.02900732303231507, 0.0), (0.026848150868323765, 0.0), (0.024849697583098396, 0.0), (0.023, 0.0)]\n"
     ]
    }
   ],
   "source": [
    "p = np.logspace(np.log10(0.1), np.log10(0.023), 20)\n",
    "\n",
    "def simulate_convolutional(m,G,k=None):\n",
    "    n = 3\n",
    "    conv_encoder = ConvolutionalEncoder(n, m, G)\n",
    "\n",
    "    conv_sim = []\n",
    "    for prob in p:\n",
    "        if k is None:\n",
    "            sim_k = int(8000*(1-prob)/prob) # min(int(8000*(1-prob)/prob), 1_000_000)\n",
    "        else:\n",
    "            sim_k = k\n",
    "        channel = BSC(prob)\n",
    "        sim = Simulator(conv_encoder, channel, k=sim_k, l=1)\n",
    "        simulated = sim.simulate()\n",
    "        conv_sim.append(simulated)\n",
    "\n",
    "    return list(zip(p, conv_sim))\n",
    "\n",
    "mG = [\n",
    "    (3, np.array([[1,0,1,1], [1,1,0,1], [1,1,1,1]])),\n",
    "    (4, np.array([[1,0,1,0,1], [1,1,0,1,1], [1,1,1,1,1]])), \n",
    "    (6, np.array([[1,0,0,1,1,1,1], [1,0,1,0,1,1,1], [1,1,0,1,1,0,1]])),\n",
    "]\n",
    "\n",
    "conv_sim = []\n",
    "for m,G in mG:\n",
    "    sim = safe_load(f'lab3_values/conv{m}_logspace_extra.pickle', lambda: simulate_convolutional(m,G))\n",
    "    conv_sim.append(sim)\n",
    "    print(f'm={m}')\n",
    "    print(sim)"
   ]
  },
  {
   "cell_type": "code",
   "execution_count": 31,
   "metadata": {},
   "outputs": [],
   "source": [
    "from scipy import special as sp\n",
    "from math import sqrt\n",
    "\n",
    "\n",
    "def qfunc(x):\n",
    "    return 0.5-0.5*sp.erf(x/sqrt(2))\n",
    "\n",
    "def invqfunc(x):\n",
    "    return sqrt(2)*sp.erfinv(1-2*x)\n",
    "\n",
    "def translate(p, R, db=True):\n",
    "    \"\"\"Eb/N0 dado probabilidade p do BSC(BPSK)\"\"\"\n",
    "    eb_n0 = map(lambda x: (invqfunc(x)**2)/(2*R), p)\n",
    "    if db:\n",
    "        eb_n0 = map(lambda x: 10*np.log10(x), eb_n0)\n",
    "    return list(eb_n0)\n"
   ]
  },
  {
   "cell_type": "code",
   "execution_count": 32,
   "metadata": {},
   "outputs": [
    {
     "data": {
      "image/png": "[encoded data removed]",
      "text/plain": [
       "<Figure size 432x288 with 1 Axes>"
      ]
     },
     "metadata": {
      "needs_background": "light"
     },
     "output_type": "display_data"
    }
   ],
   "source": [
    "import matplotlib.pyplot as plt\n",
    "\n",
    "p = [5e-1, 2e-1, 1e-1, 5e-2, 2e-2, 1e-2, 5e-3, 2e-3, 1e-3, 5e-4, 2e-4, 1e-4, 5e-5, 2e-5, 1e-5]\n",
    "\n",
    "fig = plt.figure()\n",
    "ax = plt.gca()\n",
    "plt.plot(translate([k for k,_ in naive_sim[1:]], 1), [v for _,v in naive_sim[1:]])\n",
    "plt.plot(translate([k for k,_ in conv_sim[0][1:]], 1/3), [v for _,v in conv_sim[0][1:]])\n",
    "plt.plot(translate([k for k,_ in conv_sim[1][1:]], 1/3), [v for _,v in conv_sim[1][1:]])\n",
    "plt.plot(translate([k for k,_ in conv_sim[2][1:]], 1/3), [v for _,v in conv_sim[2][1:]])\n",
    "\n",
    "# print(translate([k for k,_ in conv_sim[0][1:]], 1/3))\n",
    "# print([k for k,_ in conv_sim[0][1:]])\n",
    "ax.set_yscale('log')\n",
    "# ax.set_xscale('log')\n",
    "# ax.invert_xaxis()"
   ]
  },
  {
   "cell_type": "code",
   "execution_count": null,
   "metadata": {},
   "outputs": [],
   "source": [
    "conv_sim = []\n",
    "for m in [3,4,6]:\n",
    "    original = safe_load(f'lab3_values/conv{m}_logspace3.pickle', lambda: None)\n",
    "    extra = safe_load(f'lab3_values/conv{m}_logspace_extra.pickle', lambda: None)\n",
    "    sim = original + extra\n",
    "    conv_sim.append(sim)\n",
    "    print(f'm={m}')\n",
    "    print(sim)\n",
    "    "
   ]
  }
 ],
 "metadata": {
  "interpreter": {
   "hash": "0eac290d8ee919c10ac36ff98d6810291bef4cb71cb2886f70be001c3ae785dc"
  },
  "kernelspec": {
   "display_name": "Python 3.10.0 ('xp')",
   "language": "python",
   "name": "python3"
  },
  "language_info": {
   "codemirror_mode": {
    "name": "ipython",
    "version": 3
   },
   "file_extension": ".py",
   "mimetype": "text/x-python",
   "name": "python",
   "nbconvert_exporter": "python",
   "pygments_lexer": "ipython3",
   "version": "3.10.0"
  },
  "orig_nbformat": 4
 },
 "nbformat": 4,
 "nbformat_minor": 2
}
